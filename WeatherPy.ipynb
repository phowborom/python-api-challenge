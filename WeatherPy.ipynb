{
 "cells": [
  {
   "cell_type": "markdown",
   "metadata": {},
   "source": [
    "# WeatherPy\n",
    "----\n",
    "\n",
    "#### Note\n",
    "* Instructions have been included for each segment. You do not have to follow them exactly, but they are included to help you think through the steps."
   ]
  },
  {
   "cell_type": "code",
   "execution_count": 1,
   "metadata": {
    "scrolled": true
   },
   "outputs": [],
   "source": [
    "# Dependencies and Setup\n",
    "import matplotlib.pyplot as plt\n",
    "import pandas as pd\n",
    "import numpy as np\n",
    "import requests\n",
    "import time\n",
    "from scipy.stats import linregress\n",
    "\n",
    "# Import API key\n",
    "from api_keys import weather_api_key\n",
    "\n",
    "# Incorporated citipy to determine city based on latitude and longitude\n",
    "from citipy import citipy\n",
    "\n",
    "# Output File (CSV)\n",
    "output_data_file = \"output_data/cities.csv\"\n",
    "\n",
    "# Range of latitudes and longitudes\n",
    "lat_range = (-90, 90)\n",
    "lng_range = (-180, 180)"
   ]
  },
  {
   "cell_type": "markdown",
   "metadata": {},
   "source": [
    "## Generate Cities List"
   ]
  },
  {
   "cell_type": "code",
   "execution_count": 2,
   "metadata": {},
   "outputs": [
    {
     "data": {
      "text/plain": [
       "641"
      ]
     },
     "execution_count": 2,
     "metadata": {},
     "output_type": "execute_result"
    }
   ],
   "source": [
    "# List for holding lat_lngs and cities\n",
    "lat_lngs = []\n",
    "cities = []\n",
    "\n",
    "# Create a set of random lat and lng combinations\n",
    "lats = np.random.uniform(lat_range[0], lat_range[1], size=1500)\n",
    "lngs = np.random.uniform(lng_range[0], lng_range[1], size=1500)\n",
    "lat_lngs = zip(lats, lngs)\n",
    "\n",
    "# Identify nearest city for each lat, lng combination\n",
    "for lat_lng in lat_lngs:\n",
    "    city = citipy.nearest_city(lat_lng[0], lat_lng[1]).city_name\n",
    "    \n",
    "    # If the city is unique, then add it to a our cities list\n",
    "    if city not in cities:\n",
    "        cities.append(city)\n",
    "\n",
    "# Print the city count to confirm sufficient count\n",
    "len(cities)"
   ]
  },
  {
   "cell_type": "markdown",
   "metadata": {},
   "source": [
    "### Perform API Calls\n",
    "* Perform a weather check on each city using a series of successive API calls.\n",
    "* Include a print log of each city as it'sbeing processed (with the city number and city name).\n"
   ]
  },
  {
   "cell_type": "code",
   "execution_count": 3,
   "metadata": {
    "scrolled": true
   },
   "outputs": [
    {
     "name": "stdout",
     "output_type": "stream",
     "text": [
      "Processing Record 1 or Set 1 | noumea\n",
      "Processing Record 2 or Set 1 | busselton\n",
      "Processing Record 3 or Set 1 | albany\n",
      "Processing Record 4 or Set 1 | bubaque\n",
      "Processing Record 5 or Set 1 | constitucion\n",
      "Processing Record 6 or Set 1 | fortuna\n",
      "Processing Record 7 or Set 1 | vila velha\n",
      "Processing Record 8 or Set 1 | coihaique\n",
      "Processing Record 9 or Set 1 | mataura\n",
      "Processing Record 10 or Set 1 | giulianova\n",
      "Processing Record 11 or Set 1 | hami\n",
      "Processing Record 12 or Set 1 | rikitea\n",
      "Processing Record 13 or Set 1 | williamsport\n",
      "Processing Record 14 or Set 1 | goderich\n",
      "Processing Record 15 or Set 1 | qaanaaq\n",
      "City not found. Skipping...\n",
      "Processing Record 16 or Set 1 | east london\n",
      "Processing Record 17 or Set 1 | ushuaia\n",
      "Processing Record 18 or Set 1 | cabitan\n",
      "Processing Record 19 or Set 1 | cidreira\n",
      "Processing Record 20 or Set 1 | cape town\n",
      "Processing Record 21 or Set 1 | sao felix do xingu\n",
      "Processing Record 22 or Set 1 | husavik\n",
      "Processing Record 23 or Set 1 | vestmanna\n",
      "Processing Record 24 or Set 1 | faanui\n",
      "Processing Record 25 or Set 1 | arraial do cabo\n",
      "Processing Record 26 or Set 1 | tibati\n",
      "City not found. Skipping...\n",
      "Processing Record 27 or Set 1 | oksfjord\n",
      "Processing Record 28 or Set 1 | porbandar\n",
      "Processing Record 29 or Set 1 | axim\n",
      "Processing Record 30 or Set 1 | isangel\n",
      "Processing Record 31 or Set 1 | hermanus\n",
      "City not found. Skipping...\n",
      "Processing Record 32 or Set 1 | berbera\n",
      "Processing Record 33 or Set 1 | clyde river\n",
      "Processing Record 34 or Set 1 | hervey bay\n",
      "Processing Record 35 or Set 1 | nyuksenitsa\n",
      "Processing Record 36 or Set 1 | mahebourg\n",
      "Processing Record 37 or Set 1 | srikakulam\n",
      "Processing Record 38 or Set 1 | nanortalik\n",
      "Processing Record 39 or Set 1 | shache\n",
      "Processing Record 40 or Set 1 | ponta do sol\n",
      "Processing Record 41 or Set 1 | atuona\n",
      "Processing Record 42 or Set 1 | ahipara\n",
      "Processing Record 43 or Set 1 | nikolskoye\n",
      "Processing Record 44 or Set 1 | cherskiy\n",
      "Processing Record 45 or Set 1 | kodiak\n",
      "Processing Record 46 or Set 1 | yarada\n",
      "Processing Record 47 or Set 1 | thompson\n",
      "Processing Record 48 or Set 1 | jamestown\n",
      "Processing Record 49 or Set 1 | ginir\n",
      "City not found. Skipping...\n",
      "City not found. Skipping...\n",
      "Processing Record 1 or Set 2 | cedar city\n",
      "Processing Record 2 or Set 2 | tuktoyaktuk\n",
      "Processing Record 3 or Set 2 | huilong\n",
      "Processing Record 4 or Set 2 | kapaa\n",
      "Processing Record 5 or Set 2 | pudozh\n",
      "Processing Record 6 or Set 2 | port lincoln\n",
      "Processing Record 7 or Set 2 | kaitangata\n",
      "Processing Record 8 or Set 2 | tecoanapa\n",
      "Processing Record 9 or Set 2 | koupela\n",
      "Processing Record 10 or Set 2 | oktyabrskiy\n",
      "Processing Record 11 or Set 2 | krasnoye\n",
      "City not found. Skipping...\n",
      "Processing Record 12 or Set 2 | hobart\n",
      "City not found. Skipping...\n",
      "Processing Record 13 or Set 2 | el alto\n",
      "Processing Record 14 or Set 2 | baherden\n",
      "Processing Record 15 or Set 2 | dondo\n",
      "Processing Record 16 or Set 2 | pochutla\n",
      "City not found. Skipping...\n",
      "Processing Record 17 or Set 2 | bethal\n",
      "Processing Record 18 or Set 2 | leninsk\n",
      "Processing Record 19 or Set 2 | piacabucu\n",
      "Processing Record 20 or Set 2 | new norfolk\n",
      "Processing Record 21 or Set 2 | chinsali\n",
      "Processing Record 22 or Set 2 | alyangula\n",
      "Processing Record 23 or Set 2 | mackay\n",
      "Processing Record 24 or Set 2 | daru\n",
      "Processing Record 25 or Set 2 | flinders\n",
      "Processing Record 26 or Set 2 | goito\n",
      "Processing Record 27 or Set 2 | chuy\n",
      "Processing Record 28 or Set 2 | katsuura\n",
      "Processing Record 29 or Set 2 | san carlos\n",
      "Processing Record 30 or Set 2 | queimadas\n",
      "City not found. Skipping...\n",
      "City not found. Skipping...\n",
      "City not found. Skipping...\n",
      "Processing Record 31 or Set 2 | saint-philippe\n",
      "Processing Record 32 or Set 2 | talcahuano\n",
      "Processing Record 33 or Set 2 | sungaipenuh\n",
      "Processing Record 34 or Set 2 | batagay-alyta\n",
      "Processing Record 35 or Set 2 | pevek\n",
      "Processing Record 36 or Set 2 | luderitz\n",
      "Processing Record 37 or Set 2 | geraldton\n",
      "Processing Record 38 or Set 2 | yellowknife\n",
      "Processing Record 39 or Set 2 | huittinen\n",
      "Processing Record 40 or Set 2 | tuatapere\n",
      "Processing Record 41 or Set 2 | batagay\n",
      "Processing Record 42 or Set 2 | airai\n",
      "Processing Record 43 or Set 2 | avarua\n",
      "Processing Record 44 or Set 2 | hithadhoo\n",
      "Processing Record 45 or Set 2 | saldanha\n",
      "City not found. Skipping...\n",
      "Processing Record 46 or Set 2 | bluff\n",
      "Processing Record 47 or Set 2 | nelson bay\n",
      "Processing Record 48 or Set 2 | hambantota\n",
      "Processing Record 49 or Set 2 | abengourou\n",
      "Processing Record 1 or Set 3 | barrow\n",
      "Processing Record 2 or Set 3 | dikson\n",
      "Processing Record 3 or Set 3 | san patricio\n",
      "Processing Record 4 or Set 3 | sibu\n",
      "Processing Record 5 or Set 3 | pisco\n",
      "Processing Record 6 or Set 3 | torbay\n",
      "Processing Record 7 or Set 3 | esperance\n",
      "Processing Record 8 or Set 3 | manhattan\n",
      "Processing Record 9 or Set 3 | greytown\n",
      "Processing Record 10 or Set 3 | baturaja\n",
      "Processing Record 11 or Set 3 | guerrero negro\n",
      "Processing Record 12 or Set 3 | kavieng\n",
      "Processing Record 13 or Set 3 | port hawkesbury\n",
      "Processing Record 14 or Set 3 | acara\n",
      "Processing Record 15 or Set 3 | whitehorse\n",
      "Processing Record 16 or Set 3 | borogontsy\n",
      "Processing Record 17 or Set 3 | severo-kurilsk\n",
      "Processing Record 18 or Set 3 | verkhnyaya inta\n",
      "Processing Record 19 or Set 3 | kuryk\n",
      "Processing Record 20 or Set 3 | muros\n",
      "Processing Record 21 or Set 3 | karpogory\n",
      "Processing Record 22 or Set 3 | kutum\n",
      "Processing Record 23 or Set 3 | breytovo\n",
      "Processing Record 24 or Set 3 | mapiri\n",
      "Processing Record 25 or Set 3 | vaini\n",
      "Processing Record 26 or Set 3 | gueret\n",
      "Processing Record 27 or Set 3 | puerto ayora\n",
      "Processing Record 28 or Set 3 | butaritari\n",
      "Processing Record 29 or Set 3 | sola\n",
      "Processing Record 30 or Set 3 | evensk\n",
      "Processing Record 31 or Set 3 | castro\n",
      "Processing Record 32 or Set 3 | victoria\n",
      "Processing Record 33 or Set 3 | marawi\n",
      "Processing Record 34 or Set 3 | cerro punta\n",
      "Processing Record 35 or Set 3 | carnarvon\n",
      "Processing Record 36 or Set 3 | uncia\n",
      "Processing Record 37 or Set 3 | busayra\n",
      "Processing Record 38 or Set 3 | pontianak\n",
      "Processing Record 39 or Set 3 | nanakuli\n",
      "Processing Record 40 or Set 3 | mocuba\n",
      "Processing Record 41 or Set 3 | tuusula\n",
      "Processing Record 42 or Set 3 | stornoway\n",
      "Processing Record 43 or Set 3 | taltal\n",
      "Processing Record 44 or Set 3 | punta arenas\n",
      "Processing Record 45 or Set 3 | lebu\n",
      "Processing Record 46 or Set 3 | ribeira grande\n",
      "Processing Record 47 or Set 3 | lorengau\n",
      "Processing Record 48 or Set 3 | carroll\n",
      "Processing Record 49 or Set 3 | rio gallegos\n",
      "Processing Record 1 or Set 4 | boende\n",
      "Processing Record 2 or Set 4 | mayya\n",
      "Processing Record 3 or Set 4 | yumen\n",
      "Processing Record 4 or Set 4 | bethel\n",
      "Processing Record 5 or Set 4 | naze\n",
      "Processing Record 6 or Set 4 | narsaq\n",
      "Processing Record 7 or Set 4 | sinnamary\n",
      "Processing Record 8 or Set 4 | port blair\n",
      "Processing Record 9 or Set 4 | dicabisagan\n",
      "Processing Record 10 or Set 4 | sao joao da barra\n",
      "Processing Record 11 or Set 4 | saint-georges\n",
      "City not found. Skipping...\n",
      "Processing Record 12 or Set 4 | san borja\n",
      "Processing Record 13 or Set 4 | hamilton\n",
      "Processing Record 14 or Set 4 | longyearbyen\n",
      "Processing Record 15 or Set 4 | mao\n",
      "Processing Record 16 or Set 4 | norman wells\n",
      "Processing Record 17 or Set 4 | kuytun\n",
      "Processing Record 18 or Set 4 | padang\n",
      "Processing Record 19 or Set 4 | tommot\n",
      "Processing Record 20 or Set 4 | khash\n",
      "Processing Record 21 or Set 4 | riyadh\n",
      "Processing Record 22 or Set 4 | saskylakh\n",
      "Processing Record 23 or Set 4 | bima\n",
      "Processing Record 24 or Set 4 | pedasi\n",
      "Processing Record 25 or Set 4 | bourail\n",
      "Processing Record 26 or Set 4 | northam\n",
      "Processing Record 27 or Set 4 | aklavik\n",
      "Processing Record 28 or Set 4 | hilo\n",
      "Processing Record 29 or Set 4 | bengkulu\n",
      "Processing Record 30 or Set 4 | tiznit\n",
      "Processing Record 31 or Set 4 | la plaine\n",
      "Processing Record 32 or Set 4 | brigantine\n",
      "Processing Record 33 or Set 4 | tarauaca\n",
      "Processing Record 34 or Set 4 | west wendover\n",
      "Processing Record 35 or Set 4 | ilulissat\n",
      "Processing Record 36 or Set 4 | touros\n",
      "Processing Record 37 or Set 4 | sokoni\n",
      "City not found. Skipping...\n",
      "Processing Record 38 or Set 4 | joura\n",
      "Processing Record 39 or Set 4 | umm lajj\n",
      "Processing Record 40 or Set 4 | kanadey\n",
      "Processing Record 41 or Set 4 | pacific grove\n",
      "Processing Record 42 or Set 4 | saint-augustin\n",
      "Processing Record 43 or Set 4 | upernavik\n",
      "Processing Record 44 or Set 4 | los andes\n",
      "City not found. Skipping...\n"
     ]
    },
    {
     "name": "stdout",
     "output_type": "stream",
     "text": [
      "Processing Record 45 or Set 4 | biak\n",
      "Processing Record 46 or Set 4 | timizart\n",
      "Processing Record 47 or Set 4 | port elizabeth\n",
      "Processing Record 48 or Set 4 | russellville\n",
      "Processing Record 49 or Set 4 | alim\n",
      "Processing Record 1 or Set 5 | sonqor\n",
      "City not found. Skipping...\n",
      "Processing Record 2 or Set 5 | klaksvik\n",
      "City not found. Skipping...\n",
      "Processing Record 3 or Set 5 | svetlogorsk\n",
      "Processing Record 4 or Set 5 | kahului\n",
      "Processing Record 5 or Set 5 | campos do jordao\n",
      "Processing Record 6 or Set 5 | sakassou\n",
      "Processing Record 7 or Set 5 | prince rupert\n",
      "City not found. Skipping...\n",
      "Processing Record 8 or Set 5 | roswell\n",
      "Processing Record 9 or Set 5 | lavrentiya\n",
      "Processing Record 10 or Set 5 | leningradskiy\n",
      "City not found. Skipping...\n",
      "City not found. Skipping...\n",
      "Processing Record 11 or Set 5 | haines junction\n",
      "Processing Record 12 or Set 5 | bolshevik\n",
      "Processing Record 13 or Set 5 | kushima\n",
      "Processing Record 14 or Set 5 | bose\n",
      "City not found. Skipping...\n",
      "Processing Record 15 or Set 5 | bredasdorp\n",
      "Processing Record 16 or Set 5 | saint charles\n",
      "Processing Record 17 or Set 5 | urussu\n",
      "Processing Record 18 or Set 5 | tagbubunga\n",
      "Processing Record 19 or Set 5 | price\n",
      "Processing Record 20 or Set 5 | pahrump\n",
      "Processing Record 21 or Set 5 | sao goncalo do amarante\n",
      "Processing Record 22 or Set 5 | bambous virieux\n",
      "Processing Record 23 or Set 5 | manacapuru\n",
      "Processing Record 24 or Set 5 | zhanaozen\n",
      "Processing Record 25 or Set 5 | pendleton\n",
      "Processing Record 26 or Set 5 | sacalum\n",
      "Processing Record 27 or Set 5 | kavaratti\n",
      "Processing Record 28 or Set 5 | changji\n",
      "Processing Record 29 or Set 5 | montlucon\n",
      "Processing Record 30 or Set 5 | salvador\n",
      "Processing Record 31 or Set 5 | along\n",
      "Processing Record 32 or Set 5 | kurilsk\n",
      "Processing Record 33 or Set 5 | tilichiki\n",
      "Processing Record 34 or Set 5 | merauke\n",
      "Processing Record 35 or Set 5 | quesnel\n",
      "Processing Record 36 or Set 5 | calabar\n",
      "Processing Record 37 or Set 5 | hasaki\n",
      "City not found. Skipping...\n",
      "Processing Record 38 or Set 5 | avera\n",
      "Processing Record 39 or Set 5 | peno\n",
      "Processing Record 40 or Set 5 | shanghai\n",
      "City not found. Skipping...\n",
      "City not found. Skipping...\n",
      "Processing Record 41 or Set 5 | bandar\n",
      "Processing Record 42 or Set 5 | burnie\n",
      "Processing Record 43 or Set 5 | college\n",
      "Processing Record 44 or Set 5 | olga\n",
      "Processing Record 45 or Set 5 | monitos\n",
      "Processing Record 46 or Set 5 | vao\n",
      "Processing Record 47 or Set 5 | bonavista\n",
      "Processing Record 48 or Set 5 | tocopilla\n",
      "Processing Record 49 or Set 5 | rodrigues alves\n",
      "Processing Record 1 or Set 6 | quanzhou\n",
      "Processing Record 2 or Set 6 | prince albert\n",
      "City not found. Skipping...\n",
      "City not found. Skipping...\n",
      "Processing Record 3 or Set 6 | terney\n",
      "Processing Record 4 or Set 6 | qandala\n",
      "Processing Record 5 or Set 6 | georgetown\n",
      "Processing Record 6 or Set 6 | talnakh\n",
      "Processing Record 7 or Set 6 | rocha\n",
      "Processing Record 8 or Set 6 | burgos\n",
      "Processing Record 9 or Set 6 | port hardy\n",
      "Processing Record 10 or Set 6 | port alfred\n",
      "City not found. Skipping...\n",
      "Processing Record 11 or Set 6 | shirokiy\n",
      "City not found. Skipping...\n",
      "Processing Record 12 or Set 6 | eyl\n",
      "City not found. Skipping...\n",
      "Processing Record 13 or Set 6 | vysha\n",
      "Processing Record 14 or Set 6 | novo aripuana\n",
      "City not found. Skipping...\n",
      "Processing Record 15 or Set 6 | candido mendes\n",
      "Processing Record 16 or Set 6 | chipinge\n",
      "Processing Record 17 or Set 6 | garden city\n",
      "Processing Record 18 or Set 6 | turayf\n",
      "City not found. Skipping...\n",
      "Processing Record 19 or Set 6 | poya\n",
      "Processing Record 20 or Set 6 | codrington\n",
      "Processing Record 21 or Set 6 | dauphin\n",
      "Processing Record 22 or Set 6 | calabozo\n",
      "Processing Record 23 or Set 6 | krasnovishersk\n",
      "Processing Record 24 or Set 6 | uvinza\n",
      "Processing Record 25 or Set 6 | iqaluit\n",
      "Processing Record 26 or Set 6 | bathsheba\n",
      "Processing Record 27 or Set 6 | hofn\n",
      "Processing Record 28 or Set 6 | kalemie\n",
      "Processing Record 29 or Set 6 | sembe\n",
      "Processing Record 30 or Set 6 | san felipe\n",
      "Processing Record 31 or Set 6 | pombia\n",
      "Processing Record 32 or Set 6 | provideniya\n",
      "City not found. Skipping...\n",
      "City not found. Skipping...\n",
      "Processing Record 33 or Set 6 | takoradi\n",
      "Processing Record 34 or Set 6 | port hedland\n",
      "Processing Record 35 or Set 6 | chiredzi\n",
      "Processing Record 36 or Set 6 | moranbah\n",
      "Processing Record 37 or Set 6 | puerto escondido\n",
      "Processing Record 38 or Set 6 | tiksi\n",
      "Processing Record 39 or Set 6 | kununurra\n",
      "Processing Record 40 or Set 6 | faya\n",
      "City not found. Skipping...\n",
      "Processing Record 41 or Set 6 | mawlaik\n",
      "Processing Record 42 or Set 6 | vanimo\n",
      "Processing Record 43 or Set 6 | manthani\n",
      "Processing Record 44 or Set 6 | poso\n",
      "Processing Record 45 or Set 6 | seminole\n",
      "Processing Record 46 or Set 6 | half moon bay\n",
      "Processing Record 47 or Set 6 | severo-yeniseyskiy\n",
      "Processing Record 48 or Set 6 | kamenka\n",
      "Processing Record 49 or Set 6 | deputatskiy\n",
      "Processing Record 1 or Set 7 | kortkeros\n",
      "Processing Record 2 or Set 7 | port moresby\n",
      "Processing Record 3 or Set 7 | harper\n",
      "Processing Record 4 or Set 7 | tasiilaq\n",
      "City not found. Skipping...\n",
      "Processing Record 5 or Set 7 | souillac\n",
      "Processing Record 6 or Set 7 | viedma\n",
      "Processing Record 7 or Set 7 | kieta\n",
      "Processing Record 8 or Set 7 | luena\n",
      "Processing Record 9 or Set 7 | yerbogachen\n",
      "Processing Record 10 or Set 7 | olafsvik\n",
      "Processing Record 11 or Set 7 | itoman\n",
      "Processing Record 12 or Set 7 | guadix\n",
      "City not found. Skipping...\n",
      "Processing Record 13 or Set 7 | cody\n",
      "Processing Record 14 or Set 7 | pokrovka\n",
      "Processing Record 15 or Set 7 | pokhara\n",
      "Processing Record 16 or Set 7 | muravlenko\n",
      "Processing Record 17 or Set 7 | imeni babushkina\n",
      "Processing Record 18 or Set 7 | khatanga\n",
      "Processing Record 19 or Set 7 | khani\n",
      "Processing Record 20 or Set 7 | north bend\n",
      "Processing Record 21 or Set 7 | whitianga\n",
      "City not found. Skipping...\n",
      "Processing Record 22 or Set 7 | sistranda\n",
      "City not found. Skipping...\n",
      "Processing Record 23 or Set 7 | salinopolis\n",
      "Processing Record 24 or Set 7 | toro\n",
      "Processing Record 25 or Set 7 | bani walid\n",
      "Processing Record 26 or Set 7 | namibe\n",
      "Processing Record 27 or Set 7 | pangody\n",
      "Processing Record 28 or Set 7 | saint george\n",
      "Processing Record 29 or Set 7 | monrovia\n",
      "Processing Record 30 or Set 7 | manicore\n",
      "Processing Record 31 or Set 7 | ucluelet\n",
      "Processing Record 32 or Set 7 | ugoofaaru\n",
      "Processing Record 33 or Set 7 | kibala\n",
      "Processing Record 34 or Set 7 | cabo san lucas\n",
      "Processing Record 35 or Set 7 | donskoye\n",
      "Processing Record 36 or Set 7 | revelstoke\n",
      "Processing Record 37 or Set 7 | salalah\n",
      "Processing Record 38 or Set 7 | aban\n",
      "Processing Record 39 or Set 7 | murgab\n",
      "Processing Record 40 or Set 7 | aquiraz\n",
      "Processing Record 41 or Set 7 | tual\n",
      "Processing Record 42 or Set 7 | wewak\n",
      "Processing Record 43 or Set 7 | tessalit\n",
      "Processing Record 44 or Set 7 | los llanos de aridane\n",
      "Processing Record 45 or Set 7 | tefe\n",
      "Processing Record 46 or Set 7 | grand gaube\n",
      "Processing Record 47 or Set 7 | narasannapeta\n",
      "Processing Record 48 or Set 7 | prieska\n",
      "Processing Record 49 or Set 7 | vanavara\n",
      "Processing Record 1 or Set 8 | havoysund\n",
      "Processing Record 2 or Set 8 | vila\n",
      "Processing Record 3 or Set 8 | westport\n",
      "City not found. Skipping...\n",
      "Processing Record 4 or Set 8 | luanda\n",
      "Processing Record 5 or Set 8 | satellite beach\n",
      "Processing Record 6 or Set 8 | palora\n",
      "Processing Record 7 or Set 8 | sande\n",
      "Processing Record 8 or Set 8 | walvis bay\n",
      "Processing Record 9 or Set 8 | wanaka\n",
      "Processing Record 10 or Set 8 | malartic\n",
      "Processing Record 11 or Set 8 | alice springs\n",
      "Processing Record 12 or Set 8 | dzhebariki-khaya\n",
      "Processing Record 13 or Set 8 | srednekolymsk\n",
      "Processing Record 14 or Set 8 | kuantan\n",
      "Processing Record 15 or Set 8 | port macquarie\n",
      "Processing Record 16 or Set 8 | otane\n",
      "Processing Record 17 or Set 8 | sur\n",
      "Processing Record 18 or Set 8 | santa lucia\n",
      "Processing Record 19 or Set 8 | qasigiannguit\n",
      "Processing Record 20 or Set 8 | lompoc\n",
      "Processing Record 21 or Set 8 | manakara\n",
      "Processing Record 22 or Set 8 | niquelandia\n",
      "Processing Record 23 or Set 8 | hualmay\n",
      "Processing Record 24 or Set 8 | san quintin\n",
      "Processing Record 25 or Set 8 | labuhan\n",
      "City not found. Skipping...\n",
      "Processing Record 26 or Set 8 | xifeng\n",
      "Processing Record 27 or Set 8 | mar del plata\n",
      "Processing Record 28 or Set 8 | chokurdakh\n",
      "Processing Record 29 or Set 8 | edd\n",
      "Processing Record 30 or Set 8 | lagoa da canoa\n"
     ]
    },
    {
     "name": "stdout",
     "output_type": "stream",
     "text": [
      "Processing Record 31 or Set 8 | shingu\n",
      "Processing Record 32 or Set 8 | najran\n",
      "Processing Record 33 or Set 8 | wenling\n",
      "Processing Record 34 or Set 8 | adre\n",
      "Processing Record 35 or Set 8 | ubinskoye\n",
      "Processing Record 36 or Set 8 | honningsvag\n",
      "Processing Record 37 or Set 8 | abalak\n",
      "Processing Record 38 or Set 8 | sabzevar\n",
      "Processing Record 39 or Set 8 | mahina\n",
      "Processing Record 40 or Set 8 | fort nelson\n",
      "Processing Record 41 or Set 8 | komsomolskiy\n",
      "Processing Record 42 or Set 8 | kormilovka\n",
      "Processing Record 43 or Set 8 | charkhari\n",
      "Processing Record 44 or Set 8 | road town\n",
      "Processing Record 45 or Set 8 | nanyamba\n",
      "Processing Record 46 or Set 8 | amboasary\n",
      "Processing Record 47 or Set 8 | enterprise\n",
      "Processing Record 48 or Set 8 | kokopo\n",
      "Processing Record 49 or Set 8 | sisimiut\n",
      "Processing Record 1 or Set 9 | marsh harbour\n",
      "Processing Record 2 or Set 9 | mehran\n",
      "Processing Record 3 or Set 9 | wagar\n",
      "Processing Record 4 or Set 9 | lima\n",
      "Processing Record 5 or Set 9 | sao filipe\n",
      "Processing Record 6 or Set 9 | quelimane\n",
      "Processing Record 7 or Set 9 | xiangxiang\n",
      "Processing Record 8 or Set 9 | araouane\n",
      "Processing Record 9 or Set 9 | vidim\n",
      "Processing Record 10 or Set 9 | sambava\n",
      "City not found. Skipping...\n",
      "Processing Record 11 or Set 9 | birjand\n",
      "Processing Record 12 or Set 9 | coquimbo\n",
      "Processing Record 13 or Set 9 | nordby\n",
      "Processing Record 14 or Set 9 | mikkeli\n",
      "Processing Record 15 or Set 9 | chara\n",
      "Processing Record 16 or Set 9 | port-gentil\n",
      "Processing Record 17 or Set 9 | buala\n",
      "Processing Record 18 or Set 9 | san jose\n",
      "Processing Record 19 or Set 9 | ocampo\n",
      "Processing Record 20 or Set 9 | roald\n",
      "Processing Record 21 or Set 9 | laguna\n",
      "Processing Record 22 or Set 9 | dimitrovgrad\n",
      "Processing Record 23 or Set 9 | ostrovnoy\n",
      "Processing Record 24 or Set 9 | chenghai\n",
      "Processing Record 25 or Set 9 | pailon\n",
      "Processing Record 26 or Set 9 | olinda\n",
      "Processing Record 27 or Set 9 | bumba\n",
      "Processing Record 28 or Set 9 | dunmore town\n",
      "Processing Record 29 or Set 9 | la ronge\n",
      "Processing Record 30 or Set 9 | waingapu\n",
      "Processing Record 31 or Set 9 | marystown\n",
      "Processing Record 32 or Set 9 | lugoba\n",
      "Processing Record 33 or Set 9 | caravelas\n",
      "Processing Record 34 or Set 9 | manay\n",
      "Processing Record 35 or Set 9 | nisia floresta\n",
      "Processing Record 36 or Set 9 | abu samrah\n",
      "Processing Record 37 or Set 9 | gazli\n",
      "Processing Record 38 or Set 9 | fallon\n",
      "Processing Record 39 or Set 9 | jumla\n",
      "Processing Record 40 or Set 9 | bakel\n",
      "Processing Record 41 or Set 9 | romans-sur-isere\n",
      "Processing Record 42 or Set 9 | rio branco\n",
      "Processing Record 43 or Set 9 | poum\n",
      "Processing Record 44 or Set 9 | te anau\n",
      "Processing Record 45 or Set 9 | misratah\n",
      "Processing Record 46 or Set 9 | nacozari\n",
      "Processing Record 47 or Set 9 | belaya gora\n",
      "Processing Record 48 or Set 9 | sibolga\n",
      "Processing Record 49 or Set 9 | rapar\n",
      "Processing Record 1 or Set 10 | moussoro\n",
      "Processing Record 2 or Set 10 | bay city\n",
      "Processing Record 3 or Set 10 | kathu\n",
      "Processing Record 4 or Set 10 | lucea\n",
      "Processing Record 5 or Set 10 | old saybrook\n",
      "Processing Record 6 or Set 10 | tirumullaivasal\n",
      "Processing Record 7 or Set 10 | dubai\n",
      "Processing Record 8 or Set 10 | mayo\n",
      "Processing Record 9 or Set 10 | wielun\n",
      "Processing Record 10 or Set 10 | sitka\n",
      "Processing Record 11 or Set 10 | porto torres\n",
      "City not found. Skipping...\n",
      "Processing Record 12 or Set 10 | buin\n",
      "Processing Record 13 or Set 10 | rawson\n",
      "Processing Record 14 or Set 10 | norrtalje\n",
      "Processing Record 15 or Set 10 | afua\n",
      "Processing Record 16 or Set 10 | tevaitoa\n",
      "Processing Record 17 or Set 10 | ocos\n",
      "Processing Record 18 or Set 10 | abha\n",
      "Processing Record 19 or Set 10 | korla\n",
      "Processing Record 20 or Set 10 | hareid\n",
      "Processing Record 21 or Set 10 | tashtyp\n",
      "Processing Record 22 or Set 10 | abu kamal\n",
      "Processing Record 23 or Set 10 | beringovskiy\n",
      "Processing Record 24 or Set 10 | trenggalek\n",
      "Processing Record 25 or Set 10 | fuzhou\n",
      "Processing Record 26 or Set 10 | rincon\n",
      "Processing Record 27 or Set 10 | pundaguitan\n",
      "Processing Record 28 or Set 10 | aberdeen\n",
      "Processing Record 29 or Set 10 | waraseoni\n",
      "Processing Record 30 or Set 10 | cockburn town\n",
      "City not found. Skipping...\n",
      "Processing Record 31 or Set 10 | cabra\n",
      "Processing Record 32 or Set 10 | sokone\n",
      "Processing Record 33 or Set 10 | lashio\n",
      "City not found. Skipping...\n",
      "Processing Record 34 or Set 10 | bilibino\n",
      "Processing Record 35 or Set 10 | nantucket\n",
      "Processing Record 36 or Set 10 | payo\n",
      "Processing Record 37 or Set 10 | swellendam\n",
      "Processing Record 38 or Set 10 | sfantu gheorghe\n",
      "Processing Record 39 or Set 10 | kaoma\n",
      "Processing Record 40 or Set 10 | muzhi\n",
      "Processing Record 41 or Set 10 | ballina\n",
      "Processing Record 42 or Set 10 | tateyama\n",
      "Processing Record 43 or Set 10 | bilma\n",
      "Processing Record 44 or Set 10 | longwy\n",
      "Processing Record 45 or Set 10 | zvishavane\n",
      "Processing Record 46 or Set 10 | xining\n",
      "Processing Record 47 or Set 10 | gabu\n",
      "Processing Record 48 or Set 10 | skjervoy\n",
      "Processing Record 49 or Set 10 | dzaoudzi\n",
      "Processing Record 1 or Set 11 | aquidauana\n",
      "Processing Record 2 or Set 11 | meulaboh\n",
      "City not found. Skipping...\n",
      "Processing Record 3 or Set 11 | waitati\n",
      "Processing Record 4 or Set 11 | dunedin\n",
      "Processing Record 5 or Set 11 | thap than\n",
      "Processing Record 6 or Set 11 | jaciara\n",
      "Processing Record 7 or Set 11 | luang prabang\n",
      "Processing Record 8 or Set 11 | wahpeton\n",
      "Processing Record 9 or Set 11 | alnashi\n",
      "Processing Record 10 or Set 11 | buraydah\n",
      "Processing Record 11 or Set 11 | athens\n",
      "Processing Record 12 or Set 11 | itanhem\n",
      "Processing Record 13 or Set 11 | zlobin\n",
      "City not found. Skipping...\n",
      "Processing Record 14 or Set 11 | udachnyy\n",
      "City not found. Skipping...\n",
      "Processing Record 15 or Set 11 | luchegorsk\n",
      "City not found. Skipping...\n",
      "City not found. Skipping...\n",
      "Processing Record 16 or Set 11 | mumford\n",
      "Processing Record 17 or Set 11 | manubul\n",
      "Processing Record 18 or Set 11 | roma\n",
      "Processing Record 19 or Set 11 | illapel\n",
      "Processing Record 20 or Set 11 | linhares\n",
      "Processing Record 21 or Set 11 | san policarpo\n",
      "Processing Record 22 or Set 11 | sussex\n",
      "Processing Record 23 or Set 11 | guarapari\n",
      "Processing Record 24 or Set 11 | pula\n",
      "Processing Record 25 or Set 11 | pauini\n",
      "Processing Record 26 or Set 11 | san rafael del sur\n",
      "Processing Record 27 or Set 11 | pitelino\n",
      "Processing Record 28 or Set 11 | tazmalt\n",
      "Processing Record 29 or Set 11 | concepcion\n",
      "Processing Record 30 or Set 11 | beloha\n",
      "Processing Record 31 or Set 11 | teeli\n",
      "Processing Record 32 or Set 11 | erzin\n",
      "Processing Record 33 or Set 11 | portland\n",
      "City not found. Skipping...\n",
      "Processing Record 34 or Set 11 | pinar del rio\n",
      "Processing Record 35 or Set 11 | belmonte\n",
      "Processing Record 36 or Set 11 | mezen\n",
      "Processing Record 37 or Set 11 | adeje\n",
      "Processing Record 38 or Set 11 | port augusta\n",
      "Processing Record 39 or Set 11 | marzuq\n",
      "Processing Record 40 or Set 11 | grindavik\n",
      "Processing Record 41 or Set 11 | muroto\n",
      "Processing Record 42 or Set 11 | leh\n",
      "Processing Record 43 or Set 11 | riachao das neves\n",
      "Processing Record 44 or Set 11 | uarini\n",
      "Processing Record 45 or Set 11 | laon\n",
      "Processing Record 46 or Set 11 | ancud\n",
      "Processing Record 47 or Set 11 | presidencia roque saenz pena\n",
      "Processing Record 48 or Set 11 | kursavka\n",
      "Processing Record 49 or Set 11 | dingle\n",
      "Processing Record 1 or Set 12 | tautira\n",
      "Processing Record 2 or Set 12 | zarubino\n",
      "Processing Record 3 or Set 12 | pakxan\n",
      "Processing Record 4 or Set 12 | konevo\n",
      "Processing Record 5 or Set 12 | togur\n",
      "Processing Record 6 or Set 12 | brainerd\n",
      "Processing Record 7 or Set 12 | senanga\n",
      "Processing Record 8 or Set 12 | jackson\n",
      "Processing Record 9 or Set 12 | atasu\n",
      "Processing Record 10 or Set 12 | beitbridge\n",
      "Processing Record 11 or Set 12 | mezhdurechenskiy\n",
      "Processing Record 12 or Set 12 | kruisfontein\n",
      "Processing Record 13 or Set 12 | santa fe\n",
      "Processing Record 14 or Set 12 | kousseri\n",
      "Processing Record 15 or Set 12 | lasa\n",
      "Processing Record 16 or Set 12 | praxedis guerrero\n",
      "Processing Record 17 or Set 12 | fecamp\n",
      "Processing Record 18 or Set 12 | urumqi\n",
      "Processing Record 19 or Set 12 | sukhovolya\n",
      "Processing Record 20 or Set 12 | zelenoborskiy\n",
      "Processing Record 21 or Set 12 | coahuayana\n",
      "Processing Record 22 or Set 12 | wattegama\n",
      "Processing Record 23 or Set 12 | opuwo\n",
      "Processing Record 24 or Set 12 | bhatkal\n",
      "Processing Record 25 or Set 12 | hovd\n",
      "Processing Record 26 or Set 12 | north platte\n"
     ]
    },
    {
     "name": "stdout",
     "output_type": "stream",
     "text": [
      "Processing Record 27 or Set 12 | zyryanskoye\n",
      "Processing Record 28 or Set 12 | oriximina\n",
      "Processing Record 29 or Set 12 | azambuja\n",
      "Processing Record 30 or Set 12 | chardara\n",
      "Processing Record 31 or Set 12 | vanderhoof\n",
      "Processing Record 32 or Set 12 | uglovka\n",
      "Processing Record 33 or Set 12 | chifeng\n",
      "Processing Record 34 or Set 12 | shenjiamen\n",
      "City not found. Skipping...\n",
      "City not found. Skipping...\n",
      "City not found. Skipping...\n",
      "City not found. Skipping...\n",
      "Processing Record 35 or Set 12 | masvingo\n",
      "Processing Record 36 or Set 12 | broome\n",
      "City not found. Skipping...\n",
      "Processing Record 37 or Set 12 | suntar\n",
      "Processing Record 38 or Set 12 | jalu\n",
      "Processing Record 39 or Set 12 | paracuru\n",
      "Processing Record 40 or Set 12 | baykit\n",
      "Processing Record 41 or Set 12 | tsabong\n",
      "Processing Record 42 or Set 12 | omsukchan\n",
      "Processing Record 43 or Set 12 | tura\n",
      "Processing Record 44 or Set 12 | lensk\n",
      "Processing Record 45 or Set 12 | baruta\n",
      "Processing Record 46 or Set 12 | aswan\n",
      "Processing Record 47 or Set 12 | elat\n",
      "------------------------------\n",
      "Data Retrieval Complete\n",
      "------------------------------\n"
     ]
    }
   ],
   "source": [
    "# Set starting URL\n",
    "url = f\"http://api.openweathermap.org/data/2.5/weather?units=imperial&APPID={weather_api_key}&q=\"\n",
    "\n",
    "# Create empty cells to populate into DataFrame\n",
    "city_name = []\n",
    "lat = []\n",
    "lng = []\n",
    "max_temp = []\n",
    "humidity = []\n",
    "cloudiness = []\n",
    "wind_speed = []\n",
    "country = []\n",
    "date = []\n",
    "\n",
    "# Set initial count for records and sets\n",
    "records = 0\n",
    "sets = 1\n",
    "\n",
    "# Loop through each cities and populate info into respective lists\n",
    "for city in cities:\n",
    "    response = requests.get(url + city).json()\n",
    "    try:\n",
    "        lat.append(response['coord']['lat'])\n",
    "        lng.append(response['coord']['lon'])\n",
    "        max_temp.append(response['main']['temp_max'])\n",
    "        humidity.append(response['main']['humidity'])\n",
    "        cloudiness.append(response['clouds']['all'])\n",
    "        wind_speed.append(response['wind']['speed'])\n",
    "        country.append(response['sys']['country'])\n",
    "        date.append(response['dt'])\n",
    "        if records > 48:\n",
    "            records = 1\n",
    "            sets += 1\n",
    "            city_name.append(city)\n",
    "        else:\n",
    "            records += 1\n",
    "            city_name.append(city)\n",
    "        print(f\"Processing Record {records} or Set {sets} | {city}\")\n",
    "    except:\n",
    "        print(f\"City not found. Skipping...\")\n",
    "print('''------------------------------\n",
    "Data Retrieval Complete\n",
    "------------------------------''')"
   ]
  },
  {
   "cell_type": "markdown",
   "metadata": {},
   "source": [
    "### Convert Raw Data to DataFrame\n",
    "* Export the city data into a .csv.\n",
    "* Display the DataFrame"
   ]
  },
  {
   "cell_type": "code",
   "execution_count": 4,
   "metadata": {},
   "outputs": [
    {
     "data": {
      "text/html": [
       "<div>\n",
       "<style scoped>\n",
       "    .dataframe tbody tr th:only-of-type {\n",
       "        vertical-align: middle;\n",
       "    }\n",
       "\n",
       "    .dataframe tbody tr th {\n",
       "        vertical-align: top;\n",
       "    }\n",
       "\n",
       "    .dataframe thead th {\n",
       "        text-align: right;\n",
       "    }\n",
       "</style>\n",
       "<table border=\"1\" class=\"dataframe\">\n",
       "  <thead>\n",
       "    <tr style=\"text-align: right;\">\n",
       "      <th></th>\n",
       "      <th>City</th>\n",
       "      <th>Lat</th>\n",
       "      <th>Lng</th>\n",
       "      <th>Max Temp</th>\n",
       "      <th>Humidity</th>\n",
       "      <th>Cloudiness</th>\n",
       "      <th>Wind Speed</th>\n",
       "      <th>Country</th>\n",
       "      <th>Date</th>\n",
       "    </tr>\n",
       "  </thead>\n",
       "  <tbody>\n",
       "    <tr>\n",
       "      <th>0</th>\n",
       "      <td>noumea</td>\n",
       "      <td>-22.2763</td>\n",
       "      <td>166.4572</td>\n",
       "      <td>81.00</td>\n",
       "      <td>65</td>\n",
       "      <td>0</td>\n",
       "      <td>9.22</td>\n",
       "      <td>NC</td>\n",
       "      <td>1620800426</td>\n",
       "    </tr>\n",
       "    <tr>\n",
       "      <th>1</th>\n",
       "      <td>busselton</td>\n",
       "      <td>-33.6500</td>\n",
       "      <td>115.3333</td>\n",
       "      <td>61.00</td>\n",
       "      <td>62</td>\n",
       "      <td>83</td>\n",
       "      <td>4.00</td>\n",
       "      <td>AU</td>\n",
       "      <td>1620800555</td>\n",
       "    </tr>\n",
       "    <tr>\n",
       "      <th>2</th>\n",
       "      <td>albany</td>\n",
       "      <td>42.6001</td>\n",
       "      <td>-73.9662</td>\n",
       "      <td>46.00</td>\n",
       "      <td>73</td>\n",
       "      <td>11</td>\n",
       "      <td>11.74</td>\n",
       "      <td>US</td>\n",
       "      <td>1620800556</td>\n",
       "    </tr>\n",
       "    <tr>\n",
       "      <th>3</th>\n",
       "      <td>bubaque</td>\n",
       "      <td>11.2833</td>\n",
       "      <td>-15.8333</td>\n",
       "      <td>77.36</td>\n",
       "      <td>77</td>\n",
       "      <td>81</td>\n",
       "      <td>9.31</td>\n",
       "      <td>GW</td>\n",
       "      <td>1620800556</td>\n",
       "    </tr>\n",
       "    <tr>\n",
       "      <th>4</th>\n",
       "      <td>constitucion</td>\n",
       "      <td>-35.3333</td>\n",
       "      <td>-72.4167</td>\n",
       "      <td>53.02</td>\n",
       "      <td>54</td>\n",
       "      <td>25</td>\n",
       "      <td>4.94</td>\n",
       "      <td>CL</td>\n",
       "      <td>1620800557</td>\n",
       "    </tr>\n",
       "  </tbody>\n",
       "</table>\n",
       "</div>"
      ],
      "text/plain": [
       "           City      Lat       Lng  Max Temp  Humidity  Cloudiness  \\\n",
       "0        noumea -22.2763  166.4572     81.00        65           0   \n",
       "1     busselton -33.6500  115.3333     61.00        62          83   \n",
       "2        albany  42.6001  -73.9662     46.00        73          11   \n",
       "3       bubaque  11.2833  -15.8333     77.36        77          81   \n",
       "4  constitucion -35.3333  -72.4167     53.02        54          25   \n",
       "\n",
       "   Wind Speed Country        Date  \n",
       "0        9.22      NC  1620800426  \n",
       "1        4.00      AU  1620800555  \n",
       "2       11.74      US  1620800556  \n",
       "3        9.31      GW  1620800556  \n",
       "4        4.94      CL  1620800557  "
      ]
     },
     "execution_count": 4,
     "metadata": {},
     "output_type": "execute_result"
    }
   ],
   "source": [
    "# Create DataFrame from lists above\n",
    "df = pd.DataFrame({\"City\": city_name, \n",
    "                   \"Lat\": lat, \n",
    "                   \"Lng\": lng, \n",
    "                   \"Max Temp\": max_temp,\n",
    "                   \"Humidity\": humidity, \n",
    "                   \"Cloudiness\": cloudiness, \n",
    "                   \"Wind Speed\": wind_speed, \n",
    "                   \"Country\": country, \n",
    "                   \"Date\": date})\n",
    "df.to_csv(\"../output_data/WeatherPy_output.csv\")\n",
    "df.head()"
   ]
  },
  {
   "cell_type": "code",
   "execution_count": 5,
   "metadata": {},
   "outputs": [
    {
     "data": {
      "text/html": [
       "<div>\n",
       "<style scoped>\n",
       "    .dataframe tbody tr th:only-of-type {\n",
       "        vertical-align: middle;\n",
       "    }\n",
       "\n",
       "    .dataframe tbody tr th {\n",
       "        vertical-align: top;\n",
       "    }\n",
       "\n",
       "    .dataframe thead th {\n",
       "        text-align: right;\n",
       "    }\n",
       "</style>\n",
       "<table border=\"1\" class=\"dataframe\">\n",
       "  <thead>\n",
       "    <tr style=\"text-align: right;\">\n",
       "      <th></th>\n",
       "      <th>Lat</th>\n",
       "      <th>Lng</th>\n",
       "      <th>Max Temp</th>\n",
       "      <th>Humidity</th>\n",
       "      <th>Cloudiness</th>\n",
       "      <th>Wind Speed</th>\n",
       "      <th>Date</th>\n",
       "    </tr>\n",
       "  </thead>\n",
       "  <tbody>\n",
       "    <tr>\n",
       "      <th>count</th>\n",
       "      <td>586.000000</td>\n",
       "      <td>586.000000</td>\n",
       "      <td>586.000000</td>\n",
       "      <td>586.000000</td>\n",
       "      <td>586.000000</td>\n",
       "      <td>586.000000</td>\n",
       "      <td>5.860000e+02</td>\n",
       "    </tr>\n",
       "    <tr>\n",
       "      <th>mean</th>\n",
       "      <td>19.791431</td>\n",
       "      <td>18.003877</td>\n",
       "      <td>64.350853</td>\n",
       "      <td>67.493174</td>\n",
       "      <td>46.945392</td>\n",
       "      <td>7.262901</td>\n",
       "      <td>1.620801e+09</td>\n",
       "    </tr>\n",
       "    <tr>\n",
       "      <th>std</th>\n",
       "      <td>33.018407</td>\n",
       "      <td>89.017237</td>\n",
       "      <td>17.601473</td>\n",
       "      <td>22.879561</td>\n",
       "      <td>38.813696</td>\n",
       "      <td>4.829863</td>\n",
       "      <td>8.538541e+01</td>\n",
       "    </tr>\n",
       "    <tr>\n",
       "      <th>min</th>\n",
       "      <td>-54.800000</td>\n",
       "      <td>-175.200000</td>\n",
       "      <td>15.800000</td>\n",
       "      <td>3.000000</td>\n",
       "      <td>0.000000</td>\n",
       "      <td>0.270000</td>\n",
       "      <td>1.620800e+09</td>\n",
       "    </tr>\n",
       "    <tr>\n",
       "      <th>25%</th>\n",
       "      <td>-7.731900</td>\n",
       "      <td>-62.499625</td>\n",
       "      <td>51.010000</td>\n",
       "      <td>52.000000</td>\n",
       "      <td>3.000000</td>\n",
       "      <td>3.530000</td>\n",
       "      <td>1.620801e+09</td>\n",
       "    </tr>\n",
       "    <tr>\n",
       "      <th>50%</th>\n",
       "      <td>23.198250</td>\n",
       "      <td>23.491450</td>\n",
       "      <td>66.000000</td>\n",
       "      <td>73.000000</td>\n",
       "      <td>40.000000</td>\n",
       "      <td>6.140000</td>\n",
       "      <td>1.620801e+09</td>\n",
       "    </tr>\n",
       "    <tr>\n",
       "      <th>75%</th>\n",
       "      <td>46.240575</td>\n",
       "      <td>93.347700</td>\n",
       "      <td>78.095000</td>\n",
       "      <td>85.750000</td>\n",
       "      <td>89.750000</td>\n",
       "      <td>9.740000</td>\n",
       "      <td>1.620801e+09</td>\n",
       "    </tr>\n",
       "    <tr>\n",
       "      <th>max</th>\n",
       "      <td>78.218600</td>\n",
       "      <td>179.316700</td>\n",
       "      <td>103.410000</td>\n",
       "      <td>100.000000</td>\n",
       "      <td>100.000000</td>\n",
       "      <td>25.100000</td>\n",
       "      <td>1.620801e+09</td>\n",
       "    </tr>\n",
       "  </tbody>\n",
       "</table>\n",
       "</div>"
      ],
      "text/plain": [
       "              Lat         Lng    Max Temp    Humidity  Cloudiness  Wind Speed  \\\n",
       "count  586.000000  586.000000  586.000000  586.000000  586.000000  586.000000   \n",
       "mean    19.791431   18.003877   64.350853   67.493174   46.945392    7.262901   \n",
       "std     33.018407   89.017237   17.601473   22.879561   38.813696    4.829863   \n",
       "min    -54.800000 -175.200000   15.800000    3.000000    0.000000    0.270000   \n",
       "25%     -7.731900  -62.499625   51.010000   52.000000    3.000000    3.530000   \n",
       "50%     23.198250   23.491450   66.000000   73.000000   40.000000    6.140000   \n",
       "75%     46.240575   93.347700   78.095000   85.750000   89.750000    9.740000   \n",
       "max     78.218600  179.316700  103.410000  100.000000  100.000000   25.100000   \n",
       "\n",
       "               Date  \n",
       "count  5.860000e+02  \n",
       "mean   1.620801e+09  \n",
       "std    8.538541e+01  \n",
       "min    1.620800e+09  \n",
       "25%    1.620801e+09  \n",
       "50%    1.620801e+09  \n",
       "75%    1.620801e+09  \n",
       "max    1.620801e+09  "
      ]
     },
     "execution_count": 5,
     "metadata": {},
     "output_type": "execute_result"
    }
   ],
   "source": [
    "df.describe()"
   ]
  },
  {
   "cell_type": "markdown",
   "metadata": {},
   "source": [
    "## Inspect the data and remove the cities where the humidity > 100%.\n",
    "----\n",
    "Skip this step if there are no cities that have humidity > 100%. "
   ]
  },
  {
   "cell_type": "code",
   "execution_count": null,
   "metadata": {},
   "outputs": [],
   "source": []
  },
  {
   "cell_type": "code",
   "execution_count": 6,
   "metadata": {},
   "outputs": [],
   "source": [
    "# Get the indices of cities that have humidity over 100%.\n"
   ]
  },
  {
   "cell_type": "code",
   "execution_count": 7,
   "metadata": {},
   "outputs": [],
   "source": [
    "# Make a new DataFrame equal to the city data to drop all humidity outliers by index.\n",
    "# Passing \"inplace=False\" will make a copy of the city_data DataFrame, which we call \"clean_city_data\".\n"
   ]
  },
  {
   "cell_type": "code",
   "execution_count": null,
   "metadata": {},
   "outputs": [],
   "source": [
    "\n"
   ]
  },
  {
   "cell_type": "markdown",
   "metadata": {},
   "source": [
    "## Plotting the Data\n",
    "* Use proper labeling of the plots using plot titles (including date of analysis) and axes labels.\n",
    "* Save the plotted figures as .pngs."
   ]
  },
  {
   "cell_type": "markdown",
   "metadata": {},
   "source": [
    "## Latitude vs. Temperature Plot"
   ]
  },
  {
   "cell_type": "code",
   "execution_count": 8,
   "metadata": {
    "scrolled": true
   },
   "outputs": [
    {
     "data": {
      "image/png": "[encoded data removed]",
      "text/plain": [
       "<Figure size 432x288 with 1 Axes>"
      ]
     },
     "metadata": {
      "needs_background": "light"
     },
     "output_type": "display_data"
    }
   ],
   "source": [
    "# Define axis\n",
    "xaxis = df[\"Lat\"]\n",
    "yaxis = df[\"Max Temp\"]\n",
    "\n",
    "# Graph\n",
    "fig, ax = plt.subplots()\n",
    "ax.scatter(xaxis, yaxis);\n",
    "ax.set(title=\"Latitude vs. Temperature\",\n",
    "       xlabel=\"Latitude\",\n",
    "       ylabel=\"Max Temperature (F)\");\n",
    "fig.savefig(\"../output_data/Fig1.png\")"
   ]
  },
  {
   "cell_type": "markdown",
   "metadata": {},
   "source": [
    "There seems to be a strong correlation between latitude and max temperature. Moving up from the Southern Hemisphere, we have a positive correlation up to about 20 latitude, and then a negative correlation as we move further North."
   ]
  },
  {
   "cell_type": "markdown",
   "metadata": {},
   "source": [
    "## Latitude vs. Humidity Plot"
   ]
  },
  {
   "cell_type": "code",
   "execution_count": 9,
   "metadata": {},
   "outputs": [
    {
     "data": {
      "image/png": "[encoded data removed]",
      "text/plain": [
       "<Figure size 432x288 with 1 Axes>"
      ]
     },
     "metadata": {
      "needs_background": "light"
     },
     "output_type": "display_data"
    }
   ],
   "source": [
    "# Define axis\n",
    "xaxis = df[\"Lat\"]\n",
    "yaxis = df[\"Humidity\"]\n",
    "\n",
    "# Graph\n",
    "fig, ax = plt.subplots()\n",
    "ax.scatter(xaxis, yaxis);\n",
    "ax.set(title=\"Latitude vs. Humidity\",\n",
    "       xlabel=\"Latitude\",\n",
    "       ylabel=\"Humidity (%)\");\n",
    "fig.savefig(\"../output_data/Fig2.png\")"
   ]
  },
  {
   "cell_type": "markdown",
   "metadata": {},
   "source": [
    "There's no obvious correlation here between latitude and humidity. Higher latitude does show a wider range of humidity which is interesting to note."
   ]
  },
  {
   "cell_type": "markdown",
   "metadata": {},
   "source": [
    "## Latitude vs. Cloudiness Plot"
   ]
  },
  {
   "cell_type": "code",
   "execution_count": 10,
   "metadata": {},
   "outputs": [
    {
     "data": {
      "image/png": "[encoded data removed]",
      "text/plain": [
       "<Figure size 432x288 with 1 Axes>"
      ]
     },
     "metadata": {
      "needs_background": "light"
     },
     "output_type": "display_data"
    }
   ],
   "source": [
    "# Define axis\n",
    "xaxis = df[\"Lat\"]\n",
    "yaxis = df[\"Cloudiness\"]\n",
    "\n",
    "# Graph\n",
    "fig, ax = plt.subplots()\n",
    "ax.scatter(xaxis, yaxis);\n",
    "ax.set(title=\"Latitude vs. Cloudiness\",\n",
    "       xlabel=\"Latitude\",\n",
    "       ylabel=\"Cloudiness (%)\");\n",
    "fig.savefig(\"../output_data/Fig3.png\")"
   ]
  },
  {
   "cell_type": "markdown",
   "metadata": {},
   "source": [
    "Latitude vs. cloudiness is another area where there seems to be no strong correlation. It is interesting to see, however, that in all latitudes, there are strong clusters of data for extreme cloudiness (either 100% or 0%) resulting in almost a solid line on the top and bottom of this graph."
   ]
  },
  {
   "cell_type": "markdown",
   "metadata": {},
   "source": [
    "## Latitude vs. Wind Speed Plot"
   ]
  },
  {
   "cell_type": "code",
   "execution_count": 11,
   "metadata": {},
   "outputs": [
    {
     "data": {
      "image/png": "[encoded data removed]",
      "text/plain": [
       "<Figure size 432x288 with 1 Axes>"
      ]
     },
     "metadata": {
      "needs_background": "light"
     },
     "output_type": "display_data"
    }
   ],
   "source": [
    "# Define axis\n",
    "xaxis = df[\"Lat\"]\n",
    "yaxis = df[\"Wind Speed\"]\n",
    "\n",
    "# Graph\n",
    "fig, ax = plt.subplots()\n",
    "ax.scatter(xaxis, yaxis);\n",
    "ax.set(title=\"Latitude vs. Wind Speed\",\n",
    "       xlabel=\"Latitude\",\n",
    "       ylabel=\"Wind Speed (mph)\");\n",
    "fig.savefig(\"../output_data/Fig4.png\")"
   ]
  },
  {
   "cell_type": "markdown",
   "metadata": {},
   "source": [
    "There appears to be a correlation of almost 0 in terms of latitude and wind speed. It seems that across all latitudes, wind speed is almost always below 15 mph. Only in rare instances does it rise above 15 mph."
   ]
  },
  {
   "cell_type": "markdown",
   "metadata": {},
   "source": [
    "## Linear Regression"
   ]
  },
  {
   "cell_type": "code",
   "execution_count": 12,
   "metadata": {},
   "outputs": [],
   "source": [
    "# Split up Northern and Southern Hemispheres\n",
    "df_n = df.loc[df[\"Lat\"] >= 0, :]\n",
    "df_s = df.loc[df[\"Lat\"] < 0, :]"
   ]
  },
  {
   "cell_type": "markdown",
   "metadata": {},
   "source": [
    "####  Northern Hemisphere - Max Temp vs. Latitude Linear Regression"
   ]
  },
  {
   "cell_type": "code",
   "execution_count": 13,
   "metadata": {},
   "outputs": [
    {
     "name": "stdout",
     "output_type": "stream",
     "text": [
      "The r-value is: -0.8123549889585403\n"
     ]
    },
    {
     "data": {
      "image/png": "[encoded data removed]",
      "text/plain": [
       "<Figure size 432x288 with 1 Axes>"
      ]
     },
     "metadata": {
      "needs_background": "light"
     },
     "output_type": "display_data"
    }
   ],
   "source": [
    "# Define axis\n",
    "xaxis = df_n[\"Lat\"]\n",
    "yaxis = df_n[\"Max Temp\"]\n",
    "\n",
    "# Plot out the graph with the regression line\n",
    "(slope, intercept, rvalue, pvalue, stderr) = linregress(xaxis, yaxis)\n",
    "regress_values = xaxis * slope + intercept\n",
    "line_eq = \"y = \" + str(round(slope,2)) + \"x + \" + str(round(intercept,2))\n",
    "fig, ax = plt.subplots()\n",
    "ax.scatter(xaxis, yaxis);\n",
    "ax.plot(xaxis, regress_values,\"r-\")\n",
    "ax.annotate(line_eq, (2,40), color=\"red\", fontsize=\"15\")\n",
    "ax.set(title=\"Latitude vs. Temperature in the Northern Hemisphere\",\n",
    "       xlabel=\"Latitude\",\n",
    "       ylabel=\"Max Temperature (F)\");\n",
    "fig.savefig(\"../output_data/Fig5.png\")\n",
    "print(f\"The r-value is: {rvalue}\")"
   ]
  },
  {
   "cell_type": "markdown",
   "metadata": {},
   "source": [
    "####  Southern Hemisphere - Max Temp vs. Latitude Linear Regression"
   ]
  },
  {
   "cell_type": "code",
   "execution_count": 14,
   "metadata": {},
   "outputs": [
    {
     "name": "stdout",
     "output_type": "stream",
     "text": [
      "The r-value is: 0.7463264786218978\n"
     ]
    },
    {
     "data": {
      "image/png": "[encoded data removed]",
      "text/plain": [
       "<Figure size 432x288 with 1 Axes>"
      ]
     },
     "metadata": {
      "needs_background": "light"
     },
     "output_type": "display_data"
    }
   ],
   "source": [
    "# Define axis\n",
    "xaxis = df_s[\"Lat\"]\n",
    "yaxis = df_s[\"Max Temp\"]\n",
    "\n",
    "# Plot out the graph with the regression line\n",
    "(slope, intercept, rvalue, pvalue, stderr) = linregress(xaxis, yaxis)\n",
    "regress_values = xaxis * slope + intercept\n",
    "line_eq = \"y = \" + str(round(slope,2)) + \"x + \" + str(round(intercept,2))\n",
    "fig, ax = plt.subplots()\n",
    "ax.scatter(xaxis, yaxis);\n",
    "ax.plot(xaxis, regress_values,\"r-\")\n",
    "ax.annotate(line_eq, (-55,75), color=\"red\", fontsize=\"15\")\n",
    "ax.set(title=\"Latitude vs. Temperature in the Southern Hemisphere\",\n",
    "       xlabel=\"Latitude\",\n",
    "       ylabel=\"Max Temperature (F)\");\n",
    "fig.savefig(\"../output_data/Fig6.png\")\n",
    "print(f\"The r-value is: {rvalue}\")"
   ]
  },
  {
   "cell_type": "markdown",
   "metadata": {},
   "source": [
    "This pair of plots are probably the most obvious answer to the question posed in README file: \"What's the weather like as we approach the equator?\" We can clearly see here that temperature rises as it approaches the quator (latitude 0) and falls as it moves away from it."
   ]
  },
  {
   "cell_type": "markdown",
   "metadata": {},
   "source": [
    "####  Northern Hemisphere - Humidity (%) vs. Latitude Linear Regression"
   ]
  },
  {
   "cell_type": "code",
   "execution_count": 15,
   "metadata": {},
   "outputs": [
    {
     "name": "stdout",
     "output_type": "stream",
     "text": [
      "The r-value is: 0.05221391924509137\n"
     ]
    },
    {
     "data": {
      "image/png": "[encoded data removed]",
      "text/plain": [
       "<Figure size 432x288 with 1 Axes>"
      ]
     },
     "metadata": {
      "needs_background": "light"
     },
     "output_type": "display_data"
    }
   ],
   "source": [
    "# Define axis\n",
    "xaxis = df_n[\"Lat\"]\n",
    "yaxis = df_n[\"Humidity\"]\n",
    "\n",
    "# Plot out the graph with the regression line\n",
    "(slope, intercept, rvalue, pvalue, stderr) = linregress(xaxis, yaxis)\n",
    "regress_values = xaxis * slope + intercept\n",
    "line_eq = \"y = \" + str(round(slope,2)) + \"x + \" + str(round(intercept,2))\n",
    "fig, ax = plt.subplots()\n",
    "ax.scatter(xaxis, yaxis);\n",
    "ax.plot(xaxis, regress_values,\"r-\")\n",
    "ax.annotate(line_eq, (45,10), color=\"red\", fontsize=\"15\")\n",
    "ax.set(title=\"Latitude vs. Humidity in the Northern Hemisphere\",\n",
    "       xlabel=\"Latitude\",\n",
    "       ylabel=\"Humidity (%)\");\n",
    "fig.savefig(\"../output_data/Fig7.png\")\n",
    "print(f\"The r-value is: {rvalue}\")"
   ]
  },
  {
   "cell_type": "markdown",
   "metadata": {},
   "source": [
    "####  Southern Hemisphere - Humidity (%) vs. Latitude Linear Regression"
   ]
  },
  {
   "cell_type": "code",
   "execution_count": 16,
   "metadata": {},
   "outputs": [
    {
     "name": "stdout",
     "output_type": "stream",
     "text": [
      "The r-value is: 0.19807306140928552\n"
     ]
    },
    {
     "data": {
      "image/png": "[encoded data removed]",
      "text/plain": [
       "<Figure size 432x288 with 1 Axes>"
      ]
     },
     "metadata": {
      "needs_background": "light"
     },
     "output_type": "display_data"
    }
   ],
   "source": [
    "# Define axis\n",
    "xaxis = df_s[\"Lat\"]\n",
    "yaxis = df_s[\"Humidity\"]\n",
    "\n",
    "# Plot out the graph with the regression line\n",
    "(slope, intercept, rvalue, pvalue, stderr) = linregress(xaxis, yaxis)\n",
    "regress_values = xaxis * slope + intercept\n",
    "line_eq = \"y = \" + str(round(slope,2)) + \"x + \" + str(round(intercept,2))\n",
    "fig, ax = plt.subplots()\n",
    "ax.scatter(xaxis, yaxis);\n",
    "ax.plot(xaxis, regress_values,\"r-\")\n",
    "ax.annotate(line_eq, (-55,25), color=\"red\", fontsize=\"15\")\n",
    "ax.set(title=\"Latitude vs. Humidity in the Southern Hemisphere\",\n",
    "       xlabel=\"Latitude\",\n",
    "       ylabel=\"Humidity (%)\");\n",
    "fig.savefig(\"../output_data/Fig8.png\")\n",
    "print(f\"The r-value is: {rvalue}\")"
   ]
  },
  {
   "cell_type": "markdown",
   "metadata": {},
   "source": [
    "Northern Hemisphere data offers little insight as the data are spread out very evenly. Southern Hemisphere data, however, reveals a slightly stronger (positive) relationship between latitude and humidity: as we move north towards the equator, humidity rises."
   ]
  },
  {
   "cell_type": "markdown",
   "metadata": {},
   "source": [
    "####  Northern Hemisphere - Cloudiness (%) vs. Latitude Linear Regression"
   ]
  },
  {
   "cell_type": "code",
   "execution_count": 17,
   "metadata": {},
   "outputs": [
    {
     "name": "stdout",
     "output_type": "stream",
     "text": [
      "The r-value is: 0.12379594891407268\n"
     ]
    },
    {
     "data": {
      "image/png": "[encoded data removed]",
      "text/plain": [
       "<Figure size 432x288 with 1 Axes>"
      ]
     },
     "metadata": {
      "needs_background": "light"
     },
     "output_type": "display_data"
    }
   ],
   "source": [
    "# Define axis\n",
    "xaxis = df_n[\"Lat\"]\n",
    "yaxis = df_n[\"Cloudiness\"]\n",
    "\n",
    "# Plot out the graph with the regression line\n",
    "(slope, intercept, rvalue, pvalue, stderr) = linregress(xaxis, yaxis)\n",
    "regress_values = xaxis * slope + intercept\n",
    "line_eq = \"y = \" + str(round(slope,2)) + \"x + \" + str(round(intercept,2))\n",
    "fig, ax = plt.subplots()\n",
    "ax.scatter(xaxis, yaxis);\n",
    "ax.plot(xaxis, regress_values,\"r-\")\n",
    "ax.annotate(line_eq, (25,28), color=\"red\", fontsize=\"15\")\n",
    "ax.set(title=\"Latitude vs. Cloudiness in the Northern Hemisphere\",\n",
    "       xlabel=\"Latitude\",\n",
    "       ylabel=\"Cloudiness (%)\");\n",
    "fig.savefig(\"../output_data/Fig9.png\")\n",
    "print(f\"The r-value is: {rvalue}\")"
   ]
  },
  {
   "cell_type": "markdown",
   "metadata": {},
   "source": [
    "####  Southern Hemisphere - Cloudiness (%) vs. Latitude Linear Regression"
   ]
  },
  {
   "cell_type": "code",
   "execution_count": 18,
   "metadata": {
    "scrolled": true
   },
   "outputs": [
    {
     "name": "stdout",
     "output_type": "stream",
     "text": [
      "The r-value is: 0.26600678564020747\n"
     ]
    },
    {
     "data": {
      "image/png": "[encoded data removed]",
      "text/plain": [
       "<Figure size 432x288 with 1 Axes>"
      ]
     },
     "metadata": {
      "needs_background": "light"
     },
     "output_type": "display_data"
    }
   ],
   "source": [
    "# Define axis\n",
    "xaxis = df_s[\"Lat\"]\n",
    "yaxis = df_s[\"Cloudiness\"]\n",
    "\n",
    "# Plot out the graph with the regression line\n",
    "(slope, intercept, rvalue, pvalue, stderr) = linregress(xaxis, yaxis)\n",
    "regress_values = xaxis * slope + intercept\n",
    "line_eq = \"y = \" + str(round(slope,2)) + \"x + \" + str(round(intercept,2))\n",
    "fig, ax = plt.subplots()\n",
    "ax.scatter(xaxis, yaxis);\n",
    "ax.plot(xaxis, regress_values,\"r-\")\n",
    "ax.annotate(line_eq, (-35,51), color=\"red\", fontsize=\"15\")\n",
    "ax.set(title=\"Latitude vs. Cloudiness in the Southern Hemisphere\",\n",
    "       xlabel=\"Latitude\",\n",
    "       ylabel=\"Cloudiness (%)\");\n",
    "fig.savefig(\"../output_data/Fig10.png\")\n",
    "print(f\"The r-value is: {rvalue}\")"
   ]
  },
  {
   "cell_type": "markdown",
   "metadata": {},
   "source": [
    "The clusters of extreme cloudiness are more present in the Northern Hemisphere dataset. The Southern Hemisphere dataset reveals a weak positive relationship where cloudiness rises as we approach the equator."
   ]
  },
  {
   "cell_type": "markdown",
   "metadata": {},
   "source": [
    "####  Northern Hemisphere - Wind Speed (mph) vs. Latitude Linear Regression"
   ]
  },
  {
   "cell_type": "code",
   "execution_count": 19,
   "metadata": {},
   "outputs": [
    {
     "name": "stdout",
     "output_type": "stream",
     "text": [
      "The r-value is: -0.005670236718461677\n"
     ]
    },
    {
     "data": {
      "image/png": "[encoded data removed]",
      "text/plain": [
       "<Figure size 432x288 with 1 Axes>"
      ]
     },
     "metadata": {
      "needs_background": "light"
     },
     "output_type": "display_data"
    }
   ],
   "source": [
    "# Define axis\n",
    "xaxis = df_n[\"Lat\"]\n",
    "yaxis = df_n[\"Wind Speed\"]\n",
    "\n",
    "# Plot out the graph with the regression line\n",
    "(slope, intercept, rvalue, pvalue, stderr) = linregress(xaxis, yaxis)\n",
    "regress_values = xaxis * slope + intercept\n",
    "line_eq = \"y = \" + str(round(slope,2)) + \"x + \" + str(round(intercept,2))\n",
    "fig, ax = plt.subplots()\n",
    "ax.scatter(xaxis, yaxis);\n",
    "ax.plot(xaxis, regress_values,\"r-\")\n",
    "ax.annotate(line_eq, (40,20), color=\"red\", fontsize=\"15\")\n",
    "ax.set(title=\"Latitude vs. Wind Speed in the Northern Hemisphere\",\n",
    "       xlabel=\"Latitude\",\n",
    "       ylabel=\"Wind Speed (mph)\");\n",
    "fig.savefig(\"../output_data/Fig11.png\")\n",
    "print(f\"The r-value is: {rvalue}\")"
   ]
  },
  {
   "cell_type": "markdown",
   "metadata": {},
   "source": [
    "####  Southern Hemisphere - Wind Speed (mph) vs. Latitude Linear Regression"
   ]
  },
  {
   "cell_type": "code",
   "execution_count": 20,
   "metadata": {},
   "outputs": [
    {
     "name": "stdout",
     "output_type": "stream",
     "text": [
      "The r-value is: -0.059195283123119516\n"
     ]
    },
    {
     "data": {
      "image/png": "[encoded data removed]",
      "text/plain": [
       "<Figure size 432x288 with 1 Axes>"
      ]
     },
     "metadata": {
      "needs_background": "light"
     },
     "output_type": "display_data"
    }
   ],
   "source": [
    "# Define axis\n",
    "xaxis = df_s[\"Lat\"]\n",
    "yaxis = df_s[\"Wind Speed\"]\n",
    "\n",
    "# Plot out the graph with the regression line\n",
    "(slope, intercept, rvalue, pvalue, stderr) = linregress(xaxis, yaxis)\n",
    "regress_values = xaxis * slope + intercept\n",
    "line_eq = \"y = \" + str(round(slope,2)) + \"x + \" + str(round(intercept,2))\n",
    "fig, ax = plt.subplots()\n",
    "ax.scatter(xaxis, yaxis);\n",
    "ax.plot(xaxis, regress_values,\"r-\")\n",
    "ax.annotate(line_eq, (-50,18), color=\"red\", fontsize=\"15\")\n",
    "ax.set(title=\"Latitude vs. Wind Speed in the Southern Hemisphere\",\n",
    "       xlabel=\"Latitude\",\n",
    "       ylabel=\"Wind Speed (mph)\");\n",
    "fig.savefig(\"../output_data/Fig12.png\")\n",
    "print(f\"The r-value is: {rvalue}\")"
   ]
  },
  {
   "cell_type": "markdown",
   "metadata": {},
   "source": [
    "Both datasets in this pair reveal the same near-zero relationship between wind speed and latitude. The flat slope shows that wind speed is not affected much by distance from the equator."
   ]
  }
 ],
 "metadata": {
  "anaconda-cloud": {},
  "kernel_info": {
   "name": "python3"
  },
  "kernelspec": {
   "display_name": "Python 3",
   "language": "python",
   "name": "python3"
  },
  "language_info": {
   "codemirror_mode": {
    "name": "ipython",
    "version": 3
   },
   "file_extension": ".py",
   "mimetype": "text/x-python",
   "name": "python",
   "nbconvert_exporter": "python",
   "pygments_lexer": "ipython3",
   "version": "3.8.5"
  },
  "latex_envs": {
   "LaTeX_envs_menu_present": true,
   "autoclose": false,
   "autocomplete": true,
   "bibliofile": "biblio.bib",
   "cite_by": "apalike",
   "current_citInitial": 1,
   "eqLabelWithNumbers": true,
   "eqNumInitial": 1,
   "hotkeys": {
    "equation": "Ctrl-E",
    "itemize": "Ctrl-I"
   },
   "labels_anchors": false,
   "latex_user_defs": false,
   "report_style_numbering": false,
   "user_envs_cfg": false
  },
  "nteract": {
   "version": "0.12.3"
  }
 },
 "nbformat": 4,
 "nbformat_minor": 2
}
