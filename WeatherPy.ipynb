{
 "cells": [
  {
   "cell_type": "markdown",
   "metadata": {},
   "source": [
    "# WeatherPy\n",
    "----\n",
    "\n",
    "#### Observable trends\n",
    "* Temperature rises as it approaches the equator. Three charts below support this conclusions: the Latitude vs. Temperature charts, and the Northern and Southern Hemisphere Temperature charts. We can clearly see temperature rising up as it approaches latitude 0 (equator) and actually peak a little bit past that around latitude 10-20, then drop as we go past the equator again.\n",
    "* There are no correlation between latitude and cloudiness. We broke down this data between the Northern and Southern Hemispheres, ran a regression for both, and found no significant correlation. Visually, we can also observe from the main graph that the datasets are well-spread out.\n",
    "* Windspeed is another element that does not seem to be affected by distance from the equator, or vice versa. The regression analysis we ran in both Hemispheres who near zero correlation. The graph that combined both Hemispheres \"Latitude vs. Wind Speed"
   ]
  },
  {
   "cell_type": "code",
   "execution_count": 1,
   "metadata": {
    "scrolled": true
   },
   "outputs": [],
   "source": [
    "# Dependencies and Setup\n",
    "import matplotlib.pyplot as plt\n",
    "import pandas as pd\n",
    "import numpy as np\n",
    "import requests\n",
    "import time\n",
    "from scipy.stats import linregress\n",
    "\n",
    "# Import API key\n",
    "from api_keys import weather_api_key\n",
    "\n",
    "# Incorporated citipy to determine city based on latitude and longitude\n",
    "from citipy import citipy\n",
    "\n",
    "# Output File (CSV)\n",
    "output_data_file = \"../output_data/cities.csv\"\n",
    "\n",
    "# Range of latitudes and longitudes\n",
    "lat_range = (-90, 90)\n",
    "lng_range = (-180, 180)"
   ]
  },
  {
   "cell_type": "markdown",
   "metadata": {},
   "source": [
    "## Generate Cities List"
   ]
  },
  {
   "cell_type": "code",
   "execution_count": 2,
   "metadata": {},
   "outputs": [
    {
     "data": {
      "text/plain": [
       "615"
      ]
     },
     "execution_count": 2,
     "metadata": {},
     "output_type": "execute_result"
    }
   ],
   "source": [
    "# List for holding lat_lngs and cities\n",
    "lat_lngs = []\n",
    "cities = []\n",
    "\n",
    "# Create a set of random lat and lng combinations\n",
    "lats = np.random.uniform(lat_range[0], lat_range[1], size=1500)\n",
    "lngs = np.random.uniform(lng_range[0], lng_range[1], size=1500)\n",
    "lat_lngs = zip(lats, lngs)\n",
    "\n",
    "# Identify nearest city for each lat, lng combination\n",
    "for lat_lng in lat_lngs:\n",
    "    city = citipy.nearest_city(lat_lng[0], lat_lng[1]).city_name\n",
    "    \n",
    "    # If the city is unique, then add it to a our cities list\n",
    "    if city not in cities:\n",
    "        cities.append(city)\n",
    "\n",
    "# Print the city count to confirm sufficient count\n",
    "len(cities)"
   ]
  },
  {
   "cell_type": "markdown",
   "metadata": {},
   "source": [
    "### Perform API Calls\n",
    "* Perform a weather check on each city using a series of successive API calls.\n",
    "* Include a print log of each city as it'sbeing processed (with the city number and city name).\n"
   ]
  },
  {
   "cell_type": "code",
   "execution_count": 3,
   "metadata": {
    "scrolled": true
   },
   "outputs": [
    {
     "name": "stdout",
     "output_type": "stream",
     "text": [
      "Processing Record 1 or Set 1 | east london\n",
      "Processing Record 2 or Set 1 | hithadhoo\n",
      "Processing Record 3 or Set 1 | ushuaia\n",
      "City not found. Skipping...\n",
      "Processing Record 4 or Set 1 | prince rupert\n",
      "Processing Record 5 or Set 1 | ayacucho\n",
      "Processing Record 6 or Set 1 | tuktoyaktuk\n",
      "Processing Record 7 or Set 1 | beringovskiy\n",
      "Processing Record 8 or Set 1 | kapaa\n",
      "Processing Record 9 or Set 1 | mataura\n",
      "Processing Record 10 or Set 1 | lorengau\n",
      "Processing Record 11 or Set 1 | tarauaca\n",
      "Processing Record 12 or Set 1 | qaanaaq\n",
      "Processing Record 13 or Set 1 | airai\n",
      "Processing Record 14 or Set 1 | thompson\n",
      "Processing Record 15 or Set 1 | bluff\n",
      "Processing Record 16 or Set 1 | kayes\n",
      "Processing Record 17 or Set 1 | hermanus\n",
      "Processing Record 18 or Set 1 | meulaboh\n",
      "City not found. Skipping...\n",
      "Processing Record 19 or Set 1 | khatanga\n",
      "Processing Record 20 or Set 1 | pingliang\n",
      "Processing Record 21 or Set 1 | shambu\n",
      "City not found. Skipping...\n",
      "Processing Record 22 or Set 1 | te anau\n",
      "Processing Record 23 or Set 1 | port alfred\n",
      "Processing Record 24 or Set 1 | chicama\n",
      "Processing Record 25 or Set 1 | hilo\n",
      "Processing Record 26 or Set 1 | puerto madryn\n",
      "Processing Record 27 or Set 1 | krasnoselkup\n",
      "Processing Record 28 or Set 1 | cody\n",
      "Processing Record 29 or Set 1 | vaini\n",
      "City not found. Skipping...\n",
      "Processing Record 30 or Set 1 | aloleng\n",
      "Processing Record 31 or Set 1 | salta\n",
      "Processing Record 32 or Set 1 | rikitea\n",
      "Processing Record 33 or Set 1 | mount gambier\n",
      "Processing Record 34 or Set 1 | punta arenas\n",
      "Processing Record 35 or Set 1 | jamestown\n",
      "Processing Record 36 or Set 1 | ambilobe\n",
      "Processing Record 37 or Set 1 | orlik\n",
      "Processing Record 38 or Set 1 | birao\n",
      "Processing Record 39 or Set 1 | pisco\n",
      "City not found. Skipping...\n",
      "Processing Record 40 or Set 1 | privolzhskiy\n",
      "Processing Record 41 or Set 1 | kavaratti\n",
      "Processing Record 42 or Set 1 | port pirie\n",
      "Processing Record 43 or Set 1 | korla\n",
      "Processing Record 44 or Set 1 | butaritari\n",
      "Processing Record 45 or Set 1 | ust-kuyga\n",
      "Processing Record 46 or Set 1 | pasni\n",
      "Processing Record 47 or Set 1 | sao joao da barra\n",
      "Processing Record 48 or Set 1 | slave lake\n",
      "Processing Record 49 or Set 1 | college\n",
      "Processing Record 1 or Set 2 | nyurba\n",
      "Processing Record 2 or Set 2 | samarai\n",
      "Processing Record 3 or Set 2 | bredasdorp\n",
      "Processing Record 4 or Set 2 | zyryanovsk\n",
      "Processing Record 5 or Set 2 | vernon\n",
      "Processing Record 6 or Set 2 | avarua\n",
      "City not found. Skipping...\n",
      "Processing Record 7 or Set 2 | manyana\n",
      "Processing Record 8 or Set 2 | nador\n",
      "Processing Record 9 or Set 2 | nanortalik\n",
      "Processing Record 10 or Set 2 | atuona\n",
      "Processing Record 11 or Set 2 | bontang\n",
      "Processing Record 12 or Set 2 | hualmay\n",
      "Processing Record 13 or Set 2 | dikson\n",
      "Processing Record 14 or Set 2 | kodiak\n",
      "City not found. Skipping...\n",
      "Processing Record 15 or Set 2 | saravan\n",
      "Processing Record 16 or Set 2 | nouadhibou\n",
      "Processing Record 17 or Set 2 | wuan\n",
      "Processing Record 18 or Set 2 | kichera\n",
      "Processing Record 19 or Set 2 | clyde river\n",
      "Processing Record 20 or Set 2 | albany\n",
      "Processing Record 21 or Set 2 | dawlatabad\n",
      "Processing Record 22 or Set 2 | marshall\n",
      "Processing Record 23 or Set 2 | tiksi\n",
      "Processing Record 24 or Set 2 | sorland\n",
      "Processing Record 25 or Set 2 | norman wells\n",
      "Processing Record 26 or Set 2 | tagab\n",
      "Processing Record 27 or Set 2 | falticeni\n",
      "Processing Record 28 or Set 2 | codrington\n",
      "Processing Record 29 or Set 2 | georgiyevka\n",
      "Processing Record 30 or Set 2 | nikolskoye\n",
      "City not found. Skipping...\n",
      "Processing Record 31 or Set 2 | puerto baquerizo moreno\n",
      "Processing Record 32 or Set 2 | thinadhoo\n",
      "Processing Record 33 or Set 2 | cherskiy\n",
      "Processing Record 34 or Set 2 | touros\n",
      "Processing Record 35 or Set 2 | puerto ayora\n",
      "Processing Record 36 or Set 2 | goya\n",
      "Processing Record 37 or Set 2 | hambantota\n",
      "Processing Record 38 or Set 2 | klaksvik\n",
      "Processing Record 39 or Set 2 | vanimo\n",
      "Processing Record 40 or Set 2 | hobart\n",
      "Processing Record 41 or Set 2 | viedma\n",
      "Processing Record 42 or Set 2 | wattegama\n",
      "Processing Record 43 or Set 2 | carnarvon\n",
      "City not found. Skipping...\n",
      "Processing Record 44 or Set 2 | cape town\n",
      "Processing Record 45 or Set 2 | coffs harbour\n",
      "Processing Record 46 or Set 2 | gornopravdinsk\n",
      "Processing Record 47 or Set 2 | logten\n",
      "Processing Record 48 or Set 2 | shingu\n",
      "Processing Record 49 or Set 2 | wanning\n",
      "Processing Record 1 or Set 3 | lavrentiya\n",
      "Processing Record 2 or Set 3 | greencastle\n",
      "Processing Record 3 or Set 3 | busselton\n",
      "Processing Record 4 or Set 3 | geraldton\n",
      "Processing Record 5 or Set 3 | yellowknife\n",
      "Processing Record 6 or Set 3 | half moon bay\n",
      "Processing Record 7 or Set 3 | laurel\n",
      "Processing Record 8 or Set 3 | chapais\n",
      "Processing Record 9 or Set 3 | shenjiamen\n",
      "Processing Record 10 or Set 3 | maragogi\n",
      "Processing Record 11 or Set 3 | mitsamiouli\n",
      "Processing Record 12 or Set 3 | lewiston\n",
      "Processing Record 13 or Set 3 | saint george\n",
      "Processing Record 14 or Set 3 | port augusta\n",
      "Processing Record 15 or Set 3 | axim\n",
      "Processing Record 16 or Set 3 | bud\n",
      "Processing Record 17 or Set 3 | bengkulu\n",
      "Processing Record 18 or Set 3 | arraial do cabo\n",
      "Processing Record 19 or Set 3 | kahului\n",
      "Processing Record 20 or Set 3 | severo-kurilsk\n",
      "Processing Record 21 or Set 3 | pevek\n",
      "Processing Record 22 or Set 3 | bang saphan\n",
      "Processing Record 23 or Set 3 | dakar\n",
      "Processing Record 24 or Set 3 | biak\n",
      "Processing Record 25 or Set 3 | castro\n",
      "Processing Record 26 or Set 3 | esperance\n",
      "Processing Record 27 or Set 3 | portland\n",
      "Processing Record 28 or Set 3 | salalah\n",
      "Processing Record 29 or Set 3 | saskylakh\n",
      "Processing Record 30 or Set 3 | sabang\n",
      "Processing Record 31 or Set 3 | chokurdakh\n",
      "Processing Record 32 or Set 3 | babina\n",
      "Processing Record 33 or Set 3 | alice springs\n",
      "Processing Record 34 or Set 3 | kamenka\n",
      "Processing Record 35 or Set 3 | biskupiec\n",
      "Processing Record 36 or Set 3 | mahebourg\n",
      "Processing Record 37 or Set 3 | ahipara\n",
      "Processing Record 38 or Set 3 | new norfolk\n",
      "Processing Record 39 or Set 3 | cabo san lucas\n",
      "Processing Record 40 or Set 3 | lamu\n",
      "Processing Record 41 or Set 3 | tarko-sale\n",
      "Processing Record 42 or Set 3 | dingle\n",
      "Processing Record 43 or Set 3 | mantua\n",
      "City not found. Skipping...\n",
      "Processing Record 44 or Set 3 | victoria\n",
      "Processing Record 45 or Set 3 | bardiyah\n",
      "Processing Record 46 or Set 3 | port moresby\n",
      "Processing Record 47 or Set 3 | fortuna\n",
      "Processing Record 48 or Set 3 | ribeira grande\n",
      "Processing Record 49 or Set 3 | vostok\n",
      "Processing Record 1 or Set 4 | marzuq\n",
      "Processing Record 2 or Set 4 | flinders\n",
      "City not found. Skipping...\n",
      "Processing Record 3 or Set 4 | sept-iles\n",
      "Processing Record 4 or Set 4 | san patricio\n",
      "Processing Record 5 or Set 4 | smithers\n",
      "Processing Record 6 or Set 4 | saldanha\n",
      "Processing Record 7 or Set 4 | longyearbyen\n",
      "Processing Record 8 or Set 4 | ponta do sol\n",
      "Processing Record 9 or Set 4 | cidreira\n",
      "Processing Record 10 or Set 4 | pangnirtung\n",
      "Processing Record 11 or Set 4 | torbay\n",
      "Processing Record 12 or Set 4 | souillac\n",
      "Processing Record 13 or Set 4 | eureka\n",
      "Processing Record 14 or Set 4 | bac lieu\n",
      "Processing Record 15 or Set 4 | waipawa\n",
      "Processing Record 16 or Set 4 | lebu\n",
      "Processing Record 17 or Set 4 | barrow\n",
      "Processing Record 18 or Set 4 | venice\n",
      "Processing Record 19 or Set 4 | beloha\n",
      "Processing Record 20 or Set 4 | acarau\n",
      "Processing Record 21 or Set 4 | sakakah\n",
      "Processing Record 22 or Set 4 | guerrero negro\n",
      "Processing Record 23 or Set 4 | parana\n",
      "Processing Record 24 or Set 4 | shimoda\n",
      "City not found. Skipping...\n",
      "Processing Record 25 or Set 4 | bolshevik\n",
      "Processing Record 26 or Set 4 | abu zabad\n",
      "Processing Record 27 or Set 4 | zonalnaya stantsiya\n",
      "Processing Record 28 or Set 4 | guaymas\n",
      "Processing Record 29 or Set 4 | mandalgovi\n",
      "Processing Record 30 or Set 4 | luderitz\n",
      "Processing Record 31 or Set 4 | hellvik\n",
      "Processing Record 32 or Set 4 | aklavik\n",
      "Processing Record 33 or Set 4 | krasnyy luch\n",
      "Processing Record 34 or Set 4 | tigil\n",
      "Processing Record 35 or Set 4 | awjilah\n",
      "Processing Record 36 or Set 4 | cache creek\n",
      "Processing Record 37 or Set 4 | praya\n",
      "City not found. Skipping...\n",
      "City not found. Skipping...\n",
      "Processing Record 38 or Set 4 | camacha\n",
      "Processing Record 39 or Set 4 | nenjiang\n",
      "Processing Record 40 or Set 4 | gusau\n",
      "Processing Record 41 or Set 4 | belmonte\n",
      "Processing Record 42 or Set 4 | marquette\n",
      "Processing Record 43 or Set 4 | cayenne\n"
     ]
    },
    {
     "name": "stdout",
     "output_type": "stream",
     "text": [
      "Processing Record 44 or Set 4 | jining\n",
      "Processing Record 45 or Set 4 | koutsouras\n",
      "Processing Record 46 or Set 4 | millerovo\n",
      "Processing Record 47 or Set 4 | lompoc\n",
      "Processing Record 48 or Set 4 | ryotsu\n",
      "Processing Record 49 or Set 4 | staryy nadym\n",
      "Processing Record 1 or Set 5 | grindavik\n",
      "Processing Record 2 or Set 5 | jardim\n",
      "Processing Record 3 or Set 5 | hakui\n",
      "Processing Record 4 or Set 5 | longonjo\n",
      "Processing Record 5 or Set 5 | pital\n",
      "Processing Record 6 or Set 5 | pontivy\n",
      "Processing Record 7 or Set 5 | marienburg\n",
      "Processing Record 8 or Set 5 | karratha\n",
      "Processing Record 9 or Set 5 | tautira\n",
      "Processing Record 10 or Set 5 | batemans bay\n",
      "Processing Record 11 or Set 5 | broken hill\n",
      "Processing Record 12 or Set 5 | binzhou\n",
      "Processing Record 13 or Set 5 | usevya\n",
      "Processing Record 14 or Set 5 | marystown\n",
      "Processing Record 15 or Set 5 | nagod\n",
      "Processing Record 16 or Set 5 | porto novo\n",
      "Processing Record 17 or Set 5 | alofi\n",
      "Processing Record 18 or Set 5 | yanam\n",
      "City not found. Skipping...\n",
      "Processing Record 19 or Set 5 | tongren\n",
      "Processing Record 20 or Set 5 | mar del plata\n",
      "Processing Record 21 or Set 5 | lagoa\n",
      "Processing Record 22 or Set 5 | saint-philippe\n",
      "Processing Record 23 or Set 5 | xique-xique\n",
      "Processing Record 24 or Set 5 | yuci\n",
      "City not found. Skipping...\n",
      "Processing Record 25 or Set 5 | takoradi\n",
      "Processing Record 26 or Set 5 | port-gentil\n",
      "Processing Record 27 or Set 5 | sur\n",
      "Processing Record 28 or Set 5 | caravelas\n",
      "Processing Record 29 or Set 5 | namatanai\n",
      "Processing Record 30 or Set 5 | sungaipenuh\n",
      "Processing Record 31 or Set 5 | narsaq\n",
      "Processing Record 32 or Set 5 | sosnovka\n",
      "Processing Record 33 or Set 5 | iqaluit\n",
      "Processing Record 34 or Set 5 | tharad\n",
      "Processing Record 35 or Set 5 | marawi\n",
      "Processing Record 36 or Set 5 | hastings\n",
      "City not found. Skipping...\n",
      "Processing Record 37 or Set 5 | maumere\n",
      "Processing Record 38 or Set 5 | sherghati\n",
      "Processing Record 39 or Set 5 | udachnyy\n",
      "Processing Record 40 or Set 5 | saquena\n",
      "Processing Record 41 or Set 5 | los llanos de aridane\n",
      "Processing Record 42 or Set 5 | termoli\n",
      "Processing Record 43 or Set 5 | zhaotong\n",
      "Processing Record 44 or Set 5 | makat\n",
      "Processing Record 45 or Set 5 | tura\n",
      "Processing Record 46 or Set 5 | morondava\n",
      "Processing Record 47 or Set 5 | soderhamn\n",
      "Processing Record 48 or Set 5 | svetlaya\n",
      "Processing Record 49 or Set 5 | olinda\n",
      "Processing Record 1 or Set 6 | port blair\n",
      "Processing Record 2 or Set 6 | mbigou\n",
      "Processing Record 3 or Set 6 | srednekolymsk\n",
      "Processing Record 4 or Set 6 | kaitangata\n",
      "Processing Record 5 or Set 6 | plettenberg bay\n",
      "Processing Record 6 or Set 6 | coihaique\n",
      "Processing Record 7 or Set 6 | normandin\n",
      "Processing Record 8 or Set 6 | praia da vitoria\n",
      "Processing Record 9 or Set 6 | waingapu\n",
      "Processing Record 10 or Set 6 | paamiut\n",
      "Processing Record 11 or Set 6 | si sa ket\n",
      "Processing Record 12 or Set 6 | aljezur\n",
      "Processing Record 13 or Set 6 | montepuez\n",
      "Processing Record 14 or Set 6 | bad sachsa\n",
      "Processing Record 15 or Set 6 | komsomolskiy\n",
      "Processing Record 16 or Set 6 | nizhniy odes\n",
      "Processing Record 17 or Set 6 | bluefields\n",
      "Processing Record 18 or Set 6 | corinto\n",
      "Processing Record 19 or Set 6 | bethel\n",
      "Processing Record 20 or Set 6 | phanom thuan\n",
      "City not found. Skipping...\n",
      "Processing Record 21 or Set 6 | camana\n",
      "Processing Record 22 or Set 6 | upernavik\n",
      "Processing Record 23 or Set 6 | mao\n",
      "Processing Record 24 or Set 6 | naze\n",
      "Processing Record 25 or Set 6 | bulgan\n",
      "Processing Record 26 or Set 6 | provideniya\n",
      "Processing Record 27 or Set 6 | nhulunbuy\n",
      "Processing Record 28 or Set 6 | stornoway\n",
      "Processing Record 29 or Set 6 | santona\n",
      "Processing Record 30 or Set 6 | comodoro rivadavia\n",
      "Processing Record 31 or Set 6 | georgetown\n",
      "City not found. Skipping...\n",
      "Processing Record 32 or Set 6 | gamba\n",
      "Processing Record 33 or Set 6 | burgos\n",
      "Processing Record 34 or Set 6 | kavieng\n",
      "Processing Record 35 or Set 6 | vila franca do campo\n",
      "Processing Record 36 or Set 6 | bella vista\n",
      "Processing Record 37 or Set 6 | merauke\n",
      "Processing Record 38 or Set 6 | tazmalt\n",
      "Processing Record 39 or Set 6 | almaznyy\n",
      "Processing Record 40 or Set 6 | bambous virieux\n",
      "Processing Record 41 or Set 6 | bushehr\n",
      "Processing Record 42 or Set 6 | inzer\n",
      "Processing Record 43 or Set 6 | cockburn town\n",
      "Processing Record 44 or Set 6 | arman\n",
      "Processing Record 45 or Set 6 | kutum\n",
      "Processing Record 46 or Set 6 | antofagasta\n",
      "Processing Record 47 or Set 6 | buraydah\n",
      "Processing Record 48 or Set 6 | lubao\n",
      "Processing Record 49 or Set 6 | sinegorye\n",
      "Processing Record 1 or Set 7 | aksu\n",
      "Processing Record 2 or Set 7 | marsabit\n",
      "Processing Record 3 or Set 7 | esmeraldas\n",
      "Processing Record 4 or Set 7 | petropavl\n",
      "Processing Record 5 or Set 7 | barranca\n",
      "Processing Record 6 or Set 7 | ballitoville\n",
      "Processing Record 7 or Set 7 | road town\n",
      "Processing Record 8 or Set 7 | ariquemes\n",
      "Processing Record 9 or Set 7 | newport\n",
      "Processing Record 10 or Set 7 | tuatapere\n",
      "Processing Record 11 or Set 7 | hobyo\n",
      "Processing Record 12 or Set 7 | banda aceh\n",
      "Processing Record 13 or Set 7 | detva\n",
      "Processing Record 14 or Set 7 | zhigansk\n",
      "Processing Record 15 or Set 7 | dalmeny\n",
      "Processing Record 16 or Set 7 | sagauli\n",
      "Processing Record 17 or Set 7 | suihua\n",
      "Processing Record 18 or Set 7 | yarega\n",
      "Processing Record 19 or Set 7 | kununurra\n",
      "Processing Record 20 or Set 7 | melo\n",
      "Processing Record 21 or Set 7 | high level\n",
      "Processing Record 22 or Set 7 | jumla\n",
      "Processing Record 23 or Set 7 | sao filipe\n",
      "City not found. Skipping...\n",
      "City not found. Skipping...\n",
      "Processing Record 24 or Set 7 | loikaw\n",
      "City not found. Skipping...\n",
      "Processing Record 25 or Set 7 | hinton\n",
      "Processing Record 26 or Set 7 | ancud\n",
      "Processing Record 27 or Set 7 | petropavlovsk-kamchatskiy\n",
      "Processing Record 28 or Set 7 | chaman\n",
      "Processing Record 29 or Set 7 | vestmannaeyjar\n",
      "Processing Record 30 or Set 7 | coquimbo\n",
      "City not found. Skipping...\n",
      "Processing Record 31 or Set 7 | abu samrah\n",
      "Processing Record 32 or Set 7 | acapulco\n",
      "Processing Record 33 or Set 7 | bonfim\n",
      "Processing Record 34 or Set 7 | tasiilaq\n",
      "City not found. Skipping...\n",
      "Processing Record 35 or Set 7 | chumikan\n",
      "City not found. Skipping...\n",
      "Processing Record 36 or Set 7 | leningradskiy\n",
      "Processing Record 37 or Set 7 | champerico\n",
      "Processing Record 38 or Set 7 | siilinjarvi\n",
      "Processing Record 39 or Set 7 | akureyri\n",
      "Processing Record 40 or Set 7 | maniitsoq\n",
      "Processing Record 41 or Set 7 | mana\n",
      "Processing Record 42 or Set 7 | athens\n",
      "Processing Record 43 or Set 7 | negombo\n",
      "Processing Record 44 or Set 7 | maliq\n",
      "City not found. Skipping...\n",
      "Processing Record 45 or Set 7 | ostrovnoy\n",
      "Processing Record 46 or Set 7 | redmond\n",
      "Processing Record 47 or Set 7 | taoudenni\n",
      "Processing Record 48 or Set 7 | burnie\n",
      "Processing Record 49 or Set 7 | emba\n",
      "Processing Record 1 or Set 8 | basco\n",
      "Processing Record 2 or Set 8 | davidson\n",
      "Processing Record 3 or Set 8 | faya\n",
      "Processing Record 4 or Set 8 | inhambane\n",
      "Processing Record 5 or Set 8 | antalaha\n",
      "City not found. Skipping...\n",
      "Processing Record 6 or Set 8 | vila velha\n",
      "Processing Record 7 or Set 8 | sioux lookout\n",
      "Processing Record 8 or Set 8 | konigs wusterhausen\n",
      "Processing Record 9 or Set 8 | toda raisingh\n",
      "Processing Record 10 or Set 8 | kilindoni\n",
      "City not found. Skipping...\n",
      "Processing Record 11 or Set 8 | shelabolikha\n",
      "Processing Record 12 or Set 8 | lata\n",
      "Processing Record 13 or Set 8 | lokachi\n",
      "City not found. Skipping...\n",
      "Processing Record 14 or Set 8 | celestun\n",
      "Processing Record 15 or Set 8 | pochutla\n",
      "Processing Record 16 or Set 8 | port-cartier\n",
      "City not found. Skipping...\n",
      "City not found. Skipping...\n",
      "Processing Record 17 or Set 8 | dzaoudzi\n",
      "Processing Record 18 or Set 8 | morant bay\n",
      "Processing Record 19 or Set 8 | charkhi dadri\n",
      "Processing Record 20 or Set 8 | san ramon\n",
      "Processing Record 21 or Set 8 | rotenburg\n",
      "Processing Record 22 or Set 8 | tuy hoa\n",
      "Processing Record 23 or Set 8 | asau\n",
      "Processing Record 24 or Set 8 | san jose\n",
      "Processing Record 25 or Set 8 | umea\n",
      "Processing Record 26 or Set 8 | punakha\n",
      "Processing Record 27 or Set 8 | saint-augustin\n",
      "Processing Record 28 or Set 8 | evensk\n",
      "Processing Record 29 or Set 8 | gizo\n",
      "Processing Record 30 or Set 8 | port elizabeth\n",
      "Processing Record 31 or Set 8 | palmer\n",
      "Processing Record 32 or Set 8 | catamarca\n",
      "Processing Record 33 or Set 8 | galle\n",
      "Processing Record 34 or Set 8 | hasaki\n",
      "Processing Record 35 or Set 8 | hamilton\n"
     ]
    },
    {
     "name": "stdout",
     "output_type": "stream",
     "text": [
      "Processing Record 36 or Set 8 | hofn\n",
      "Processing Record 37 or Set 8 | qujing\n",
      "Processing Record 38 or Set 8 | yeppoon\n",
      "Processing Record 39 or Set 8 | yar-sale\n",
      "Processing Record 40 or Set 8 | kruisfontein\n",
      "Processing Record 41 or Set 8 | general pico\n",
      "Processing Record 42 or Set 8 | angoram\n",
      "Processing Record 43 or Set 8 | mersin\n",
      "City not found. Skipping...\n",
      "Processing Record 44 or Set 8 | turukhansk\n",
      "Processing Record 45 or Set 8 | roald\n",
      "Processing Record 46 or Set 8 | grand gaube\n",
      "Processing Record 47 or Set 8 | shubarkuduk\n",
      "Processing Record 48 or Set 8 | krasnokamensk\n",
      "Processing Record 49 or Set 8 | bakal\n",
      "Processing Record 1 or Set 9 | iralaya\n",
      "Processing Record 2 or Set 9 | sena madureira\n",
      "Processing Record 3 or Set 9 | douglas\n",
      "Processing Record 4 or Set 9 | veselynove\n",
      "Processing Record 5 or Set 9 | beni suef\n",
      "Processing Record 6 or Set 9 | tessalit\n",
      "Processing Record 7 or Set 9 | talas\n",
      "Processing Record 8 or Set 9 | reutlingen\n",
      "City not found. Skipping...\n",
      "City not found. Skipping...\n",
      "Processing Record 9 or Set 9 | atbasar\n",
      "Processing Record 10 or Set 9 | gornoye loo\n",
      "Processing Record 11 or Set 9 | port lincoln\n",
      "City not found. Skipping...\n",
      "Processing Record 12 or Set 9 | bambanglipuro\n",
      "Processing Record 13 or Set 9 | tual\n",
      "Processing Record 14 or Set 9 | vestmanna\n",
      "Processing Record 15 or Set 9 | aykhal\n",
      "Processing Record 16 or Set 9 | sevilla\n",
      "City not found. Skipping...\n",
      "Processing Record 17 or Set 9 | namibe\n",
      "Processing Record 18 or Set 9 | sarishabari\n",
      "Processing Record 19 or Set 9 | buala\n",
      "Processing Record 20 or Set 9 | napierville\n",
      "Processing Record 21 or Set 9 | sintea mare\n",
      "Processing Record 22 or Set 9 | teknaf\n",
      "City not found. Skipping...\n",
      "Processing Record 23 or Set 9 | kresna\n",
      "Processing Record 24 or Set 9 | mecca\n",
      "Processing Record 25 or Set 9 | turka\n",
      "Processing Record 26 or Set 9 | goderich\n",
      "Processing Record 27 or Set 9 | la rioja\n",
      "Processing Record 28 or Set 9 | svetlyy\n",
      "Processing Record 29 or Set 9 | leh\n",
      "Processing Record 30 or Set 9 | rio grande\n",
      "Processing Record 31 or Set 9 | atambua\n",
      "Processing Record 32 or Set 9 | santiago de cao\n",
      "Processing Record 33 or Set 9 | katsuura\n",
      "Processing Record 34 or Set 9 | sobolevo\n",
      "Processing Record 35 or Set 9 | honningsvag\n",
      "Processing Record 36 or Set 9 | erdenet\n",
      "Processing Record 37 or Set 9 | zyryanka\n",
      "Processing Record 38 or Set 9 | deming\n",
      "Processing Record 39 or Set 9 | khani\n",
      "Processing Record 40 or Set 9 | ewa beach\n",
      "Processing Record 41 or Set 9 | hengyang\n",
      "Processing Record 42 or Set 9 | clearwater\n",
      "Processing Record 43 or Set 9 | agdas\n",
      "Processing Record 44 or Set 9 | miramar\n",
      "Processing Record 45 or Set 9 | charters towers\n",
      "Processing Record 46 or Set 9 | balkanabat\n",
      "Processing Record 47 or Set 9 | mindyak\n",
      "Processing Record 48 or Set 9 | rio gallegos\n",
      "Processing Record 49 or Set 9 | sangre grande\n",
      "City not found. Skipping...\n",
      "Processing Record 1 or Set 10 | nhamunda\n",
      "Processing Record 2 or Set 10 | yulara\n",
      "Processing Record 3 or Set 10 | karpathos\n",
      "Processing Record 4 or Set 10 | hay river\n",
      "Processing Record 5 or Set 10 | manama\n",
      "Processing Record 6 or Set 10 | sitka\n",
      "City not found. Skipping...\n",
      "City not found. Skipping...\n",
      "City not found. Skipping...\n",
      "Processing Record 7 or Set 10 | dullewala\n",
      "Processing Record 8 or Set 10 | guane\n",
      "City not found. Skipping...\n",
      "Processing Record 9 or Set 10 | anchorage\n",
      "Processing Record 10 or Set 10 | whitehorse\n",
      "Processing Record 11 or Set 10 | ust-ilimsk\n",
      "Processing Record 12 or Set 10 | kathu\n",
      "Processing Record 13 or Set 10 | kankan\n",
      "City not found. Skipping...\n",
      "Processing Record 14 or Set 10 | pervomayskoye\n",
      "City not found. Skipping...\n",
      "Processing Record 15 or Set 10 | padang\n",
      "City not found. Skipping...\n",
      "Processing Record 16 or Set 10 | constitucion\n",
      "Processing Record 17 or Set 10 | sterling\n",
      "Processing Record 18 or Set 10 | roebourne\n",
      "Processing Record 19 or Set 10 | lukhovka\n",
      "Processing Record 20 or Set 10 | rognan\n",
      "Processing Record 21 or Set 10 | rocha\n",
      "Processing Record 22 or Set 10 | madimba\n",
      "Processing Record 23 or Set 10 | sinnamary\n",
      "Processing Record 24 or Set 10 | buchanan\n",
      "Processing Record 25 or Set 10 | sisimiut\n",
      "Processing Record 26 or Set 10 | egvekinot\n",
      "Processing Record 27 or Set 10 | avera\n",
      "City not found. Skipping...\n",
      "Processing Record 28 or Set 10 | eyl\n",
      "Processing Record 29 or Set 10 | port arthur\n",
      "City not found. Skipping...\n",
      "Processing Record 30 or Set 10 | qasigiannguit\n",
      "Processing Record 31 or Set 10 | paslek\n",
      "Processing Record 32 or Set 10 | mersing\n",
      "Processing Record 33 or Set 10 | mushie\n",
      "Processing Record 34 or Set 10 | isangel\n",
      "City not found. Skipping...\n",
      "Processing Record 35 or Set 10 | la ronge\n",
      "Processing Record 36 or Set 10 | okhotsk\n",
      "Processing Record 37 or Set 10 | ati\n",
      "Processing Record 38 or Set 10 | sitangkai\n",
      "Processing Record 39 or Set 10 | sorong\n",
      "Processing Record 40 or Set 10 | longkou\n",
      "Processing Record 41 or Set 10 | freeport\n",
      "Processing Record 42 or Set 10 | banswara\n",
      "Processing Record 43 or Set 10 | safford\n",
      "Processing Record 44 or Set 10 | ugoofaaru\n",
      "Processing Record 45 or Set 10 | aksarka\n",
      "Processing Record 46 or Set 10 | khasan\n",
      "Processing Record 47 or Set 10 | faanui\n",
      "Processing Record 48 or Set 10 | brooks\n",
      "Processing Record 49 or Set 10 | caxito\n",
      "Processing Record 1 or Set 11 | talnakh\n",
      "Processing Record 2 or Set 11 | santa luzia\n",
      "Processing Record 3 or Set 11 | uyuni\n",
      "Processing Record 4 or Set 11 | temba\n",
      "Processing Record 5 or Set 11 | teya\n",
      "Processing Record 6 or Set 11 | hwange\n",
      "Processing Record 7 or Set 11 | mweka\n",
      "Processing Record 8 or Set 11 | kyshtovka\n",
      "Processing Record 9 or Set 11 | gat\n",
      "Processing Record 10 or Set 11 | husavik\n",
      "Processing Record 11 or Set 11 | hohhot\n",
      "Processing Record 12 or Set 11 | xinyu\n",
      "Processing Record 13 or Set 11 | yabrud\n",
      "Processing Record 14 or Set 11 | chuy\n",
      "Processing Record 15 or Set 11 | moussoro\n",
      "Processing Record 16 or Set 11 | shache\n",
      "Processing Record 17 or Set 11 | genhe\n",
      "Processing Record 18 or Set 11 | byumba\n",
      "Processing Record 19 or Set 11 | hami\n",
      "Processing Record 20 or Set 11 | quelimane\n",
      "Processing Record 21 or Set 11 | skelleftea\n",
      "Processing Record 22 or Set 11 | osa\n",
      "Processing Record 23 or Set 11 | contramaestre\n",
      "Processing Record 24 or Set 11 | fort nelson\n",
      "Processing Record 25 or Set 11 | ruwi\n",
      "Processing Record 26 or Set 11 | araouane\n",
      "Processing Record 27 or Set 11 | lexington park\n",
      "City not found. Skipping...\n",
      "Processing Record 28 or Set 11 | great yarmouth\n",
      "Processing Record 29 or Set 11 | tallahassee\n",
      "Processing Record 30 or Set 11 | sheregesh\n",
      "City not found. Skipping...\n",
      "Processing Record 31 or Set 11 | nishihara\n",
      "Processing Record 32 or Set 11 | adrar\n",
      "Processing Record 33 or Set 11 | glenluce\n",
      "City not found. Skipping...\n",
      "Processing Record 34 or Set 11 | aquiraz\n",
      "Processing Record 35 or Set 11 | toccoa\n",
      "City not found. Skipping...\n",
      "Processing Record 36 or Set 11 | warah\n",
      "Processing Record 37 or Set 11 | itupiranga\n",
      "Processing Record 38 or Set 11 | vardo\n",
      "City not found. Skipping...\n",
      "Processing Record 39 or Set 11 | radeberg\n",
      "Processing Record 40 or Set 11 | sulangan\n",
      "Processing Record 41 or Set 11 | san cristobal\n",
      "City not found. Skipping...\n",
      "Processing Record 42 or Set 11 | yumbe\n",
      "Processing Record 43 or Set 11 | houma\n",
      "Processing Record 44 or Set 11 | mae hong son\n",
      "Processing Record 45 or Set 11 | zatoka\n",
      "Processing Record 46 or Set 11 | bilibino\n",
      "Processing Record 47 or Set 11 | tabou\n",
      "Processing Record 48 or Set 11 | soyo\n",
      "Processing Record 49 or Set 11 | labuhan\n",
      "Processing Record 1 or Set 12 | susehri\n",
      "Processing Record 2 or Set 12 | makakilo city\n",
      "Processing Record 3 or Set 12 | brownwood\n",
      "Processing Record 4 or Set 12 | dudinka\n",
      "Processing Record 5 or Set 12 | ostersund\n",
      "Processing Record 6 or Set 12 | presidencia roque saenz pena\n",
      "Processing Record 7 or Set 12 | nakhon phanom\n",
      "Processing Record 8 or Set 12 | ayagoz\n",
      "Processing Record 9 or Set 12 | kampli\n",
      "Processing Record 10 or Set 12 | broome\n",
      "Processing Record 11 or Set 12 | mogadouro\n",
      "Processing Record 12 or Set 12 | bibiani\n",
      "Processing Record 13 or Set 12 | sambava\n",
      "Processing Record 14 or Set 12 | kristianstad\n",
      "Processing Record 15 or Set 12 | jiaonan\n",
      "Processing Record 16 or Set 12 | serik\n",
      "Processing Record 17 or Set 12 | saint-joseph\n",
      "Processing Record 18 or Set 12 | tazovskiy\n",
      "Processing Record 19 or Set 12 | emerald\n",
      "Processing Record 20 or Set 12 | russell\n",
      "Processing Record 21 or Set 12 | wuwei\n",
      "Processing Record 22 or Set 12 | atar\n",
      "------------------------------\n",
      "Data Retrieval Complete\n",
      "------------------------------\n"
     ]
    }
   ],
   "source": [
    "# Set starting URL\n",
    "url = f\"http://api.openweathermap.org/data/2.5/weather?units=imperial&APPID={weather_api_key}&q=\"\n",
    "\n",
    "# Create empty cells to populate into DataFrame\n",
    "city_name = []\n",
    "lat = []\n",
    "lng = []\n",
    "max_temp = []\n",
    "humidity = []\n",
    "cloudiness = []\n",
    "wind_speed = []\n",
    "country = []\n",
    "date = []\n",
    "\n",
    "# Set initial count for records and sets\n",
    "records = 0\n",
    "sets = 1\n",
    "\n",
    "# Loop through each cities and populate info into respective lists\n",
    "for city in cities:\n",
    "    response = requests.get(url + city).json()\n",
    "    try:\n",
    "        lat.append(response['coord']['lat'])\n",
    "        lng.append(response['coord']['lon'])\n",
    "        max_temp.append(response['main']['temp_max'])\n",
    "        humidity.append(response['main']['humidity'])\n",
    "        cloudiness.append(response['clouds']['all'])\n",
    "        wind_speed.append(response['wind']['speed'])\n",
    "        country.append(response['sys']['country'])\n",
    "        date.append(response['dt'])\n",
    "        if records > 48:\n",
    "            records = 1\n",
    "            sets += 1\n",
    "            city_name.append(city)\n",
    "        else:\n",
    "            records += 1\n",
    "            city_name.append(city)\n",
    "        print(f\"Processing Record {records} or Set {sets} | {city}\")\n",
    "    except:\n",
    "        print(f\"City not found. Skipping...\")\n",
    "print('''------------------------------\n",
    "Data Retrieval Complete\n",
    "------------------------------''')"
   ]
  },
  {
   "cell_type": "markdown",
   "metadata": {},
   "source": [
    "### Convert Raw Data to DataFrame\n",
    "* Export the city data into a .csv.\n",
    "* Display the DataFrame"
   ]
  },
  {
   "cell_type": "code",
   "execution_count": 4,
   "metadata": {},
   "outputs": [
    {
     "data": {
      "text/html": [
       "<div>\n",
       "<style scoped>\n",
       "    .dataframe tbody tr th:only-of-type {\n",
       "        vertical-align: middle;\n",
       "    }\n",
       "\n",
       "    .dataframe tbody tr th {\n",
       "        vertical-align: top;\n",
       "    }\n",
       "\n",
       "    .dataframe thead th {\n",
       "        text-align: right;\n",
       "    }\n",
       "</style>\n",
       "<table border=\"1\" class=\"dataframe\">\n",
       "  <thead>\n",
       "    <tr style=\"text-align: right;\">\n",
       "      <th></th>\n",
       "      <th>City</th>\n",
       "      <th>Lat</th>\n",
       "      <th>Lng</th>\n",
       "      <th>Max Temp</th>\n",
       "      <th>Humidity</th>\n",
       "      <th>Cloudiness</th>\n",
       "      <th>Wind Speed</th>\n",
       "      <th>Country</th>\n",
       "      <th>Date</th>\n",
       "    </tr>\n",
       "  </thead>\n",
       "  <tbody>\n",
       "    <tr>\n",
       "      <th>0</th>\n",
       "      <td>east london</td>\n",
       "      <td>-33.0153</td>\n",
       "      <td>27.9116</td>\n",
       "      <td>55.40</td>\n",
       "      <td>100</td>\n",
       "      <td>40</td>\n",
       "      <td>6.91</td>\n",
       "      <td>ZA</td>\n",
       "      <td>1620971686</td>\n",
       "    </tr>\n",
       "    <tr>\n",
       "      <th>1</th>\n",
       "      <td>hithadhoo</td>\n",
       "      <td>-0.6000</td>\n",
       "      <td>73.0833</td>\n",
       "      <td>82.02</td>\n",
       "      <td>77</td>\n",
       "      <td>89</td>\n",
       "      <td>8.79</td>\n",
       "      <td>MV</td>\n",
       "      <td>1620971686</td>\n",
       "    </tr>\n",
       "    <tr>\n",
       "      <th>2</th>\n",
       "      <td>ushuaia</td>\n",
       "      <td>-54.8000</td>\n",
       "      <td>-68.3000</td>\n",
       "      <td>39.20</td>\n",
       "      <td>87</td>\n",
       "      <td>0</td>\n",
       "      <td>5.50</td>\n",
       "      <td>AR</td>\n",
       "      <td>1620971686</td>\n",
       "    </tr>\n",
       "    <tr>\n",
       "      <th>3</th>\n",
       "      <td>prince rupert</td>\n",
       "      <td>54.3161</td>\n",
       "      <td>-130.3201</td>\n",
       "      <td>46.40</td>\n",
       "      <td>76</td>\n",
       "      <td>90</td>\n",
       "      <td>4.61</td>\n",
       "      <td>CA</td>\n",
       "      <td>1620971687</td>\n",
       "    </tr>\n",
       "    <tr>\n",
       "      <th>4</th>\n",
       "      <td>ayacucho</td>\n",
       "      <td>-13.1583</td>\n",
       "      <td>-74.2239</td>\n",
       "      <td>50.67</td>\n",
       "      <td>88</td>\n",
       "      <td>27</td>\n",
       "      <td>0.74</td>\n",
       "      <td>PE</td>\n",
       "      <td>1620971687</td>\n",
       "    </tr>\n",
       "  </tbody>\n",
       "</table>\n",
       "</div>"
      ],
      "text/plain": [
       "            City      Lat       Lng  Max Temp  Humidity  Cloudiness  \\\n",
       "0    east london -33.0153   27.9116     55.40       100          40   \n",
       "1      hithadhoo  -0.6000   73.0833     82.02        77          89   \n",
       "2        ushuaia -54.8000  -68.3000     39.20        87           0   \n",
       "3  prince rupert  54.3161 -130.3201     46.40        76          90   \n",
       "4       ayacucho -13.1583  -74.2239     50.67        88          27   \n",
       "\n",
       "   Wind Speed Country        Date  \n",
       "0        6.91      ZA  1620971686  \n",
       "1        8.79      MV  1620971686  \n",
       "2        5.50      AR  1620971686  \n",
       "3        4.61      CA  1620971687  \n",
       "4        0.74      PE  1620971687  "
      ]
     },
     "execution_count": 4,
     "metadata": {},
     "output_type": "execute_result"
    }
   ],
   "source": [
    "# Create DataFrame from lists above\n",
    "df = pd.DataFrame({\"City\": city_name, \n",
    "                   \"Lat\": lat, \n",
    "                   \"Lng\": lng, \n",
    "                   \"Max Temp\": max_temp,\n",
    "                   \"Humidity\": humidity, \n",
    "                   \"Cloudiness\": cloudiness, \n",
    "                   \"Wind Speed\": wind_speed, \n",
    "                   \"Country\": country, \n",
    "                   \"Date\": date})\n",
    "df.to_csv(output_data_file, index = False)\n",
    "df.head()"
   ]
  },
  {
   "cell_type": "code",
   "execution_count": 5,
   "metadata": {},
   "outputs": [
    {
     "data": {
      "text/html": [
       "<div>\n",
       "<style scoped>\n",
       "    .dataframe tbody tr th:only-of-type {\n",
       "        vertical-align: middle;\n",
       "    }\n",
       "\n",
       "    .dataframe tbody tr th {\n",
       "        vertical-align: top;\n",
       "    }\n",
       "\n",
       "    .dataframe thead th {\n",
       "        text-align: right;\n",
       "    }\n",
       "</style>\n",
       "<table border=\"1\" class=\"dataframe\">\n",
       "  <thead>\n",
       "    <tr style=\"text-align: right;\">\n",
       "      <th></th>\n",
       "      <th>Lat</th>\n",
       "      <th>Lng</th>\n",
       "      <th>Max Temp</th>\n",
       "      <th>Humidity</th>\n",
       "      <th>Cloudiness</th>\n",
       "      <th>Wind Speed</th>\n",
       "      <th>Date</th>\n",
       "    </tr>\n",
       "  </thead>\n",
       "  <tbody>\n",
       "    <tr>\n",
       "      <th>count</th>\n",
       "      <td>561.00000</td>\n",
       "      <td>561.000000</td>\n",
       "      <td>561.000000</td>\n",
       "      <td>561.000000</td>\n",
       "      <td>561.000000</td>\n",
       "      <td>561.000000</td>\n",
       "      <td>5.610000e+02</td>\n",
       "    </tr>\n",
       "    <tr>\n",
       "      <th>mean</th>\n",
       "      <td>22.23772</td>\n",
       "      <td>20.435873</td>\n",
       "      <td>64.377683</td>\n",
       "      <td>66.992870</td>\n",
       "      <td>50.431373</td>\n",
       "      <td>7.746613</td>\n",
       "      <td>1.620972e+09</td>\n",
       "    </tr>\n",
       "    <tr>\n",
       "      <th>std</th>\n",
       "      <td>32.79643</td>\n",
       "      <td>87.778604</td>\n",
       "      <td>18.142312</td>\n",
       "      <td>23.314387</td>\n",
       "      <td>39.061344</td>\n",
       "      <td>4.932742</td>\n",
       "      <td>8.353566e+01</td>\n",
       "    </tr>\n",
       "    <tr>\n",
       "      <th>min</th>\n",
       "      <td>-54.80000</td>\n",
       "      <td>-179.166700</td>\n",
       "      <td>17.600000</td>\n",
       "      <td>1.000000</td>\n",
       "      <td>0.000000</td>\n",
       "      <td>0.250000</td>\n",
       "      <td>1.620971e+09</td>\n",
       "    </tr>\n",
       "    <tr>\n",
       "      <th>25%</th>\n",
       "      <td>-4.06250</td>\n",
       "      <td>-57.557500</td>\n",
       "      <td>50.670000</td>\n",
       "      <td>55.000000</td>\n",
       "      <td>5.000000</td>\n",
       "      <td>3.910000</td>\n",
       "      <td>1.620972e+09</td>\n",
       "    </tr>\n",
       "    <tr>\n",
       "      <th>50%</th>\n",
       "      <td>27.97690</td>\n",
       "      <td>26.300000</td>\n",
       "      <td>66.200000</td>\n",
       "      <td>71.000000</td>\n",
       "      <td>58.000000</td>\n",
       "      <td>6.910000</td>\n",
       "      <td>1.620972e+09</td>\n",
       "    </tr>\n",
       "    <tr>\n",
       "      <th>75%</th>\n",
       "      <td>49.18330</td>\n",
       "      <td>95.321400</td>\n",
       "      <td>79.000000</td>\n",
       "      <td>87.000000</td>\n",
       "      <td>90.000000</td>\n",
       "      <td>10.560000</td>\n",
       "      <td>1.620972e+09</td>\n",
       "    </tr>\n",
       "    <tr>\n",
       "      <th>max</th>\n",
       "      <td>78.21860</td>\n",
       "      <td>179.316700</td>\n",
       "      <td>104.000000</td>\n",
       "      <td>100.000000</td>\n",
       "      <td>100.000000</td>\n",
       "      <td>32.970000</td>\n",
       "      <td>1.620972e+09</td>\n",
       "    </tr>\n",
       "  </tbody>\n",
       "</table>\n",
       "</div>"
      ],
      "text/plain": [
       "             Lat         Lng    Max Temp    Humidity  Cloudiness  Wind Speed  \\\n",
       "count  561.00000  561.000000  561.000000  561.000000  561.000000  561.000000   \n",
       "mean    22.23772   20.435873   64.377683   66.992870   50.431373    7.746613   \n",
       "std     32.79643   87.778604   18.142312   23.314387   39.061344    4.932742   \n",
       "min    -54.80000 -179.166700   17.600000    1.000000    0.000000    0.250000   \n",
       "25%     -4.06250  -57.557500   50.670000   55.000000    5.000000    3.910000   \n",
       "50%     27.97690   26.300000   66.200000   71.000000   58.000000    6.910000   \n",
       "75%     49.18330   95.321400   79.000000   87.000000   90.000000   10.560000   \n",
       "max     78.21860  179.316700  104.000000  100.000000  100.000000   32.970000   \n",
       "\n",
       "               Date  \n",
       "count  5.610000e+02  \n",
       "mean   1.620972e+09  \n",
       "std    8.353566e+01  \n",
       "min    1.620971e+09  \n",
       "25%    1.620972e+09  \n",
       "50%    1.620972e+09  \n",
       "75%    1.620972e+09  \n",
       "max    1.620972e+09  "
      ]
     },
     "execution_count": 5,
     "metadata": {},
     "output_type": "execute_result"
    }
   ],
   "source": [
    "df.describe()"
   ]
  },
  {
   "cell_type": "markdown",
   "metadata": {},
   "source": [
    "## Inspect the data and remove the cities where the humidity > 100%.\n",
    "----\n",
    "Skip this step if there are no cities that have humidity > 100%. "
   ]
  },
  {
   "cell_type": "code",
   "execution_count": null,
   "metadata": {},
   "outputs": [],
   "source": []
  },
  {
   "cell_type": "code",
   "execution_count": 6,
   "metadata": {},
   "outputs": [],
   "source": [
    "# Get the indices of cities that have humidity over 100%.\n"
   ]
  },
  {
   "cell_type": "code",
   "execution_count": 7,
   "metadata": {},
   "outputs": [],
   "source": [
    "# Make a new DataFrame equal to the city data to drop all humidity outliers by index.\n",
    "# Passing \"inplace=False\" will make a copy of the city_data DataFrame, which we call \"clean_city_data\".\n"
   ]
  },
  {
   "cell_type": "code",
   "execution_count": null,
   "metadata": {},
   "outputs": [],
   "source": [
    "\n"
   ]
  },
  {
   "cell_type": "markdown",
   "metadata": {},
   "source": [
    "## Plotting the Data\n",
    "* Use proper labeling of the plots using plot titles (including date of analysis) and axes labels.\n",
    "* Save the plotted figures as .pngs."
   ]
  },
  {
   "cell_type": "markdown",
   "metadata": {},
   "source": [
    "## Latitude vs. Temperature Plot"
   ]
  },
  {
   "cell_type": "code",
   "execution_count": 8,
   "metadata": {
    "scrolled": true
   },
   "outputs": [
    {
     "data": {
      "image/png": "[encoded data removed]",
      "text/plain": [
       "<Figure size 432x288 with 1 Axes>"
      ]
     },
     "metadata": {
      "needs_background": "light"
     },
     "output_type": "display_data"
    }
   ],
   "source": [
    "# Define axis\n",
    "xaxis = df[\"Lat\"]\n",
    "yaxis = df[\"Max Temp\"]\n",
    "\n",
    "# Graph\n",
    "fig, ax = plt.subplots()\n",
    "ax.scatter(xaxis, yaxis);\n",
    "ax.set(title=\"Latitude vs. Temperature\",\n",
    "       xlabel=\"Latitude\",\n",
    "       ylabel=\"Max Temperature (F)\");\n",
    "fig.savefig(\"../output_data/Fig1.png\")"
   ]
  },
  {
   "cell_type": "markdown",
   "metadata": {},
   "source": [
    "There seems to be a strong correlation between latitude and max temperature. Moving up from the Southern Hemisphere, we have a positive correlation up to about 20 latitude, and then a negative correlation as we move further North."
   ]
  },
  {
   "cell_type": "markdown",
   "metadata": {},
   "source": [
    "## Latitude vs. Humidity Plot"
   ]
  },
  {
   "cell_type": "code",
   "execution_count": 9,
   "metadata": {},
   "outputs": [
    {
     "data": {
      "image/png": "[encoded data removed]",
      "text/plain": [
       "<Figure size 432x288 with 1 Axes>"
      ]
     },
     "metadata": {
      "needs_background": "light"
     },
     "output_type": "display_data"
    }
   ],
   "source": [
    "# Define axis\n",
    "xaxis = df[\"Lat\"]\n",
    "yaxis = df[\"Humidity\"]\n",
    "\n",
    "# Graph\n",
    "fig, ax = plt.subplots()\n",
    "ax.scatter(xaxis, yaxis);\n",
    "ax.set(title=\"Latitude vs. Humidity\",\n",
    "       xlabel=\"Latitude\",\n",
    "       ylabel=\"Humidity (%)\");\n",
    "fig.savefig(\"../output_data/Fig2.png\")"
   ]
  },
  {
   "cell_type": "markdown",
   "metadata": {},
   "source": [
    "There's no obvious correlation here between latitude and humidity. Higher latitude does show a wider range of humidity which is interesting to note."
   ]
  },
  {
   "cell_type": "markdown",
   "metadata": {},
   "source": [
    "## Latitude vs. Cloudiness Plot"
   ]
  },
  {
   "cell_type": "code",
   "execution_count": 10,
   "metadata": {},
   "outputs": [
    {
     "data": {
      "image/png": "[encoded data removed]",
      "text/plain": [
       "<Figure size 432x288 with 1 Axes>"
      ]
     },
     "metadata": {
      "needs_background": "light"
     },
     "output_type": "display_data"
    }
   ],
   "source": [
    "# Define axis\n",
    "xaxis = df[\"Lat\"]\n",
    "yaxis = df[\"Cloudiness\"]\n",
    "\n",
    "# Graph\n",
    "fig, ax = plt.subplots()\n",
    "ax.scatter(xaxis, yaxis);\n",
    "ax.set(title=\"Latitude vs. Cloudiness\",\n",
    "       xlabel=\"Latitude\",\n",
    "       ylabel=\"Cloudiness (%)\");\n",
    "fig.savefig(\"../output_data/Fig3.png\")"
   ]
  },
  {
   "cell_type": "markdown",
   "metadata": {},
   "source": [
    "Latitude vs. cloudiness is another area where there seems to be no strong correlation. It is interesting to see, however, that in all latitudes, there are strong clusters of data for extreme cloudiness (either 100% or 0%) resulting in almost a solid line on the top and bottom of this graph."
   ]
  },
  {
   "cell_type": "markdown",
   "metadata": {},
   "source": [
    "## Latitude vs. Wind Speed Plot"
   ]
  },
  {
   "cell_type": "code",
   "execution_count": 11,
   "metadata": {},
   "outputs": [
    {
     "data": {
      "image/png": "[encoded data removed]",
      "text/plain": [
       "<Figure size 432x288 with 1 Axes>"
      ]
     },
     "metadata": {
      "needs_background": "light"
     },
     "output_type": "display_data"
    }
   ],
   "source": [
    "# Define axis\n",
    "xaxis = df[\"Lat\"]\n",
    "yaxis = df[\"Wind Speed\"]\n",
    "\n",
    "# Graph\n",
    "fig, ax = plt.subplots()\n",
    "ax.scatter(xaxis, yaxis);\n",
    "ax.set(title=\"Latitude vs. Wind Speed\",\n",
    "       xlabel=\"Latitude\",\n",
    "       ylabel=\"Wind Speed (mph)\");\n",
    "fig.savefig(\"../output_data/Fig4.png\")"
   ]
  },
  {
   "cell_type": "markdown",
   "metadata": {},
   "source": [
    "There appears to be a correlation of almost 0 in terms of latitude and wind speed. It seems that across all latitudes, wind speed is almost always below 15 mph. Only in rare instances does it rise above 15 mph."
   ]
  },
  {
   "cell_type": "markdown",
   "metadata": {},
   "source": [
    "## Linear Regression"
   ]
  },
  {
   "cell_type": "code",
   "execution_count": 12,
   "metadata": {},
   "outputs": [],
   "source": [
    "# Split up Northern and Southern Hemispheres\n",
    "df_n = df.loc[df[\"Lat\"] >= 0, :]\n",
    "df_s = df.loc[df[\"Lat\"] < 0, :]"
   ]
  },
  {
   "cell_type": "markdown",
   "metadata": {},
   "source": [
    "####  Northern Hemisphere - Max Temp vs. Latitude Linear Regression"
   ]
  },
  {
   "cell_type": "code",
   "execution_count": 13,
   "metadata": {},
   "outputs": [
    {
     "name": "stdout",
     "output_type": "stream",
     "text": [
      "The r-value is: -0.8024177761719974\n"
     ]
    },
    {
     "data": {
      "image/png": "[encoded data removed]",
      "text/plain": [
       "<Figure size 432x288 with 1 Axes>"
      ]
     },
     "metadata": {
      "needs_background": "light"
     },
     "output_type": "display_data"
    }
   ],
   "source": [
    "# Define axis\n",
    "xaxis = df_n[\"Lat\"]\n",
    "yaxis = df_n[\"Max Temp\"]\n",
    "\n",
    "# Plot out the graph with the regression line\n",
    "(slope, intercept, rvalue, pvalue, stderr) = linregress(xaxis, yaxis)\n",
    "regress_values = xaxis * slope + intercept\n",
    "line_eq = \"y = \" + str(round(slope,2)) + \"x + \" + str(round(intercept,2))\n",
    "fig, ax = plt.subplots()\n",
    "ax.scatter(xaxis, yaxis);\n",
    "ax.plot(xaxis, regress_values,\"r-\")\n",
    "ax.annotate(line_eq, (2,40), color=\"red\", fontsize=\"15\")\n",
    "ax.set(title=\"Latitude vs. Temperature in the Northern Hemisphere\",\n",
    "       xlabel=\"Latitude\",\n",
    "       ylabel=\"Max Temperature (F)\");\n",
    "fig.savefig(\"../output_data/Fig5.png\")\n",
    "print(f\"The r-value is: {rvalue}\")"
   ]
  },
  {
   "cell_type": "markdown",
   "metadata": {},
   "source": [
    "####  Southern Hemisphere - Max Temp vs. Latitude Linear Regression"
   ]
  },
  {
   "cell_type": "code",
   "execution_count": 14,
   "metadata": {},
   "outputs": [
    {
     "name": "stdout",
     "output_type": "stream",
     "text": [
      "The r-value is: 0.7495272089487409\n"
     ]
    },
    {
     "data": {
      "image/png": "[encoded data removed]",
      "text/plain": [
       "<Figure size 432x288 with 1 Axes>"
      ]
     },
     "metadata": {
      "needs_background": "light"
     },
     "output_type": "display_data"
    }
   ],
   "source": [
    "# Define axis\n",
    "xaxis = df_s[\"Lat\"]\n",
    "yaxis = df_s[\"Max Temp\"]\n",
    "\n",
    "# Plot out the graph with the regression line\n",
    "(slope, intercept, rvalue, pvalue, stderr) = linregress(xaxis, yaxis)\n",
    "regress_values = xaxis * slope + intercept\n",
    "line_eq = \"y = \" + str(round(slope,2)) + \"x + \" + str(round(intercept,2))\n",
    "fig, ax = plt.subplots()\n",
    "ax.scatter(xaxis, yaxis);\n",
    "ax.plot(xaxis, regress_values,\"r-\")\n",
    "ax.annotate(line_eq, (-55,75), color=\"red\", fontsize=\"15\")\n",
    "ax.set(title=\"Latitude vs. Temperature in the Southern Hemisphere\",\n",
    "       xlabel=\"Latitude\",\n",
    "       ylabel=\"Max Temperature (F)\");\n",
    "fig.savefig(\"../output_data/Fig6.png\")\n",
    "print(f\"The r-value is: {rvalue}\")"
   ]
  },
  {
   "cell_type": "markdown",
   "metadata": {},
   "source": [
    "This pair of plots are probably the most obvious answer to the question posed in README file: \"What's the weather like as we approach the equator?\" We can clearly see here that temperature rises as it approaches the quator (latitude 0) and falls as it moves away from it."
   ]
  },
  {
   "cell_type": "markdown",
   "metadata": {},
   "source": [
    "####  Northern Hemisphere - Humidity (%) vs. Latitude Linear Regression"
   ]
  },
  {
   "cell_type": "code",
   "execution_count": 15,
   "metadata": {},
   "outputs": [
    {
     "name": "stdout",
     "output_type": "stream",
     "text": [
      "The r-value is: 0.12839414862303075\n"
     ]
    },
    {
     "data": {
      "image/png": "[encoded data removed]",
      "text/plain": [
       "<Figure size 432x288 with 1 Axes>"
      ]
     },
     "metadata": {
      "needs_background": "light"
     },
     "output_type": "display_data"
    }
   ],
   "source": [
    "# Define axis\n",
    "xaxis = df_n[\"Lat\"]\n",
    "yaxis = df_n[\"Humidity\"]\n",
    "\n",
    "# Plot out the graph with the regression line\n",
    "(slope, intercept, rvalue, pvalue, stderr) = linregress(xaxis, yaxis)\n",
    "regress_values = xaxis * slope + intercept\n",
    "line_eq = \"y = \" + str(round(slope,2)) + \"x + \" + str(round(intercept,2))\n",
    "fig, ax = plt.subplots()\n",
    "ax.scatter(xaxis, yaxis);\n",
    "ax.plot(xaxis, regress_values,\"r-\")\n",
    "ax.annotate(line_eq, (45,10), color=\"red\", fontsize=\"15\")\n",
    "ax.set(title=\"Latitude vs. Humidity in the Northern Hemisphere\",\n",
    "       xlabel=\"Latitude\",\n",
    "       ylabel=\"Humidity (%)\");\n",
    "fig.savefig(\"../output_data/Fig7.png\")\n",
    "print(f\"The r-value is: {rvalue}\")"
   ]
  },
  {
   "cell_type": "markdown",
   "metadata": {},
   "source": [
    "####  Southern Hemisphere - Humidity (%) vs. Latitude Linear Regression"
   ]
  },
  {
   "cell_type": "code",
   "execution_count": 16,
   "metadata": {},
   "outputs": [
    {
     "name": "stdout",
     "output_type": "stream",
     "text": [
      "The r-value is: 0.17069655397170064\n"
     ]
    },
    {
     "data": {
      "image/png": "[encoded data removed]",
      "text/plain": [
       "<Figure size 432x288 with 1 Axes>"
      ]
     },
     "metadata": {
      "needs_background": "light"
     },
     "output_type": "display_data"
    }
   ],
   "source": [
    "# Define axis\n",
    "xaxis = df_s[\"Lat\"]\n",
    "yaxis = df_s[\"Humidity\"]\n",
    "\n",
    "# Plot out the graph with the regression line\n",
    "(slope, intercept, rvalue, pvalue, stderr) = linregress(xaxis, yaxis)\n",
    "regress_values = xaxis * slope + intercept\n",
    "line_eq = \"y = \" + str(round(slope,2)) + \"x + \" + str(round(intercept,2))\n",
    "fig, ax = plt.subplots()\n",
    "ax.scatter(xaxis, yaxis);\n",
    "ax.plot(xaxis, regress_values,\"r-\")\n",
    "ax.annotate(line_eq, (-55,25), color=\"red\", fontsize=\"15\")\n",
    "ax.set(title=\"Latitude vs. Humidity in the Southern Hemisphere\",\n",
    "       xlabel=\"Latitude\",\n",
    "       ylabel=\"Humidity (%)\");\n",
    "fig.savefig(\"../output_data/Fig8.png\")\n",
    "print(f\"The r-value is: {rvalue}\")"
   ]
  },
  {
   "cell_type": "markdown",
   "metadata": {},
   "source": [
    "Northern Hemisphere data offers little insight as the data are spread out very evenly. Southern Hemisphere data, however, reveals a slightly stronger (positive) relationship between latitude and humidity: as we move north towards the equator, humidity rises."
   ]
  },
  {
   "cell_type": "markdown",
   "metadata": {},
   "source": [
    "####  Northern Hemisphere - Cloudiness (%) vs. Latitude Linear Regression"
   ]
  },
  {
   "cell_type": "code",
   "execution_count": 17,
   "metadata": {},
   "outputs": [
    {
     "name": "stdout",
     "output_type": "stream",
     "text": [
      "The r-value is: 0.17081112961127257\n"
     ]
    },
    {
     "data": {
      "image/png": "[encoded data removed]",
      "text/plain": [
       "<Figure size 432x288 with 1 Axes>"
      ]
     },
     "metadata": {
      "needs_background": "light"
     },
     "output_type": "display_data"
    }
   ],
   "source": [
    "# Define axis\n",
    "xaxis = df_n[\"Lat\"]\n",
    "yaxis = df_n[\"Cloudiness\"]\n",
    "\n",
    "# Plot out the graph with the regression line\n",
    "(slope, intercept, rvalue, pvalue, stderr) = linregress(xaxis, yaxis)\n",
    "regress_values = xaxis * slope + intercept\n",
    "line_eq = \"y = \" + str(round(slope,2)) + \"x + \" + str(round(intercept,2))\n",
    "fig, ax = plt.subplots()\n",
    "ax.scatter(xaxis, yaxis);\n",
    "ax.plot(xaxis, regress_values,\"r-\")\n",
    "ax.annotate(line_eq, (25,28), color=\"red\", fontsize=\"15\")\n",
    "ax.set(title=\"Latitude vs. Cloudiness in the Northern Hemisphere\",\n",
    "       xlabel=\"Latitude\",\n",
    "       ylabel=\"Cloudiness (%)\");\n",
    "fig.savefig(\"../output_data/Fig9.png\")\n",
    "print(f\"The r-value is: {rvalue}\")"
   ]
  },
  {
   "cell_type": "markdown",
   "metadata": {},
   "source": [
    "####  Southern Hemisphere - Cloudiness (%) vs. Latitude Linear Regression"
   ]
  },
  {
   "cell_type": "code",
   "execution_count": 18,
   "metadata": {
    "scrolled": true
   },
   "outputs": [
    {
     "name": "stdout",
     "output_type": "stream",
     "text": [
      "The r-value is: -0.004929790933564558\n"
     ]
    },
    {
     "data": {
      "image/png": "[encoded data removed]",
      "text/plain": [
       "<Figure size 432x288 with 1 Axes>"
      ]
     },
     "metadata": {
      "needs_background": "light"
     },
     "output_type": "display_data"
    }
   ],
   "source": [
    "# Define axis\n",
    "xaxis = df_s[\"Lat\"]\n",
    "yaxis = df_s[\"Cloudiness\"]\n",
    "\n",
    "# Plot out the graph with the regression line\n",
    "(slope, intercept, rvalue, pvalue, stderr) = linregress(xaxis, yaxis)\n",
    "regress_values = xaxis * slope + intercept\n",
    "line_eq = \"y = \" + str(round(slope,2)) + \"x + \" + str(round(intercept,2))\n",
    "fig, ax = plt.subplots()\n",
    "ax.scatter(xaxis, yaxis);\n",
    "ax.plot(xaxis, regress_values,\"r-\")\n",
    "ax.annotate(line_eq, (-35,51), color=\"red\", fontsize=\"15\")\n",
    "ax.set(title=\"Latitude vs. Cloudiness in the Southern Hemisphere\",\n",
    "       xlabel=\"Latitude\",\n",
    "       ylabel=\"Cloudiness (%)\");\n",
    "fig.savefig(\"../output_data/Fig10.png\")\n",
    "print(f\"The r-value is: {rvalue}\")"
   ]
  },
  {
   "cell_type": "markdown",
   "metadata": {},
   "source": [
    "The clusters of extreme cloudiness are more present in the Northern Hemisphere dataset. The Southern Hemisphere dataset reveals a weak positive relationship where cloudiness rises as we approach the equator."
   ]
  },
  {
   "cell_type": "markdown",
   "metadata": {},
   "source": [
    "####  Northern Hemisphere - Wind Speed (mph) vs. Latitude Linear Regression"
   ]
  },
  {
   "cell_type": "code",
   "execution_count": 19,
   "metadata": {},
   "outputs": [
    {
     "name": "stdout",
     "output_type": "stream",
     "text": [
      "The r-value is: -0.01059487321855932\n"
     ]
    },
    {
     "data": {
      "image/png": "[encoded data removed]",
      "text/plain": [
       "<Figure size 432x288 with 1 Axes>"
      ]
     },
     "metadata": {
      "needs_background": "light"
     },
     "output_type": "display_data"
    }
   ],
   "source": [
    "# Define axis\n",
    "xaxis = df_n[\"Lat\"]\n",
    "yaxis = df_n[\"Wind Speed\"]\n",
    "\n",
    "# Plot out the graph with the regression line\n",
    "(slope, intercept, rvalue, pvalue, stderr) = linregress(xaxis, yaxis)\n",
    "regress_values = xaxis * slope + intercept\n",
    "line_eq = \"y = \" + str(round(slope,2)) + \"x + \" + str(round(intercept,2))\n",
    "fig, ax = plt.subplots()\n",
    "ax.scatter(xaxis, yaxis);\n",
    "ax.plot(xaxis, regress_values,\"r-\")\n",
    "ax.annotate(line_eq, (40,20), color=\"red\", fontsize=\"15\")\n",
    "ax.set(title=\"Latitude vs. Wind Speed in the Northern Hemisphere\",\n",
    "       xlabel=\"Latitude\",\n",
    "       ylabel=\"Wind Speed (mph)\");\n",
    "fig.savefig(\"../output_data/Fig11.png\")\n",
    "print(f\"The r-value is: {rvalue}\")"
   ]
  },
  {
   "cell_type": "markdown",
   "metadata": {},
   "source": [
    "####  Southern Hemisphere - Wind Speed (mph) vs. Latitude Linear Regression"
   ]
  },
  {
   "cell_type": "code",
   "execution_count": 20,
   "metadata": {},
   "outputs": [
    {
     "name": "stdout",
     "output_type": "stream",
     "text": [
      "The r-value is: 0.07554225042745907\n"
     ]
    },
    {
     "data": {
      "image/png": "[encoded data removed]",
      "text/plain": [
       "<Figure size 432x288 with 1 Axes>"
      ]
     },
     "metadata": {
      "needs_background": "light"
     },
     "output_type": "display_data"
    }
   ],
   "source": [
    "# Define axis\n",
    "xaxis = df_s[\"Lat\"]\n",
    "yaxis = df_s[\"Wind Speed\"]\n",
    "\n",
    "# Plot out the graph with the regression line\n",
    "(slope, intercept, rvalue, pvalue, stderr) = linregress(xaxis, yaxis)\n",
    "regress_values = xaxis * slope + intercept\n",
    "line_eq = \"y = \" + str(round(slope,2)) + \"x + \" + str(round(intercept,2))\n",
    "fig, ax = plt.subplots()\n",
    "ax.scatter(xaxis, yaxis);\n",
    "ax.plot(xaxis, regress_values,\"r-\")\n",
    "ax.annotate(line_eq, (-50,18), color=\"red\", fontsize=\"15\")\n",
    "ax.set(title=\"Latitude vs. Wind Speed in the Southern Hemisphere\",\n",
    "       xlabel=\"Latitude\",\n",
    "       ylabel=\"Wind Speed (mph)\");\n",
    "fig.savefig(\"../output_data/Fig12.png\")\n",
    "print(f\"The r-value is: {rvalue}\")"
   ]
  },
  {
   "cell_type": "markdown",
   "metadata": {},
   "source": [
    "Both datasets in this pair reveal the same near-zero relationship between wind speed and latitude. The flat slope shows that wind speed is not affected much by distance from the equator."
   ]
  }
 ],
 "metadata": {
  "anaconda-cloud": {},
  "kernel_info": {
   "name": "python3"
  },
  "kernelspec": {
   "display_name": "Python 3",
   "language": "python",
   "name": "python3"
  },
  "language_info": {
   "codemirror_mode": {
    "name": "ipython",
    "version": 3
   },
   "file_extension": ".py",
   "mimetype": "text/x-python",
   "name": "python",
   "nbconvert_exporter": "python",
   "pygments_lexer": "ipython3",
   "version": "3.8.5"
  },
  "latex_envs": {
   "LaTeX_envs_menu_present": true,
   "autoclose": false,
   "autocomplete": true,
   "bibliofile": "biblio.bib",
   "cite_by": "apalike",
   "current_citInitial": 1,
   "eqLabelWithNumbers": true,
   "eqNumInitial": 1,
   "hotkeys": {
    "equation": "Ctrl-E",
    "itemize": "Ctrl-I"
   },
   "labels_anchors": false,
   "latex_user_defs": false,
   "report_style_numbering": false,
   "user_envs_cfg": false
  },
  "nteract": {
   "version": "0.12.3"
  }
 },
 "nbformat": 4,
 "nbformat_minor": 2
}
